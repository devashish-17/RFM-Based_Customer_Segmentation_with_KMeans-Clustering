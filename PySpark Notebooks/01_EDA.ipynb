{
 "cells": [
  {
   "cell_type": "code",
   "execution_count": 0,
   "metadata": {
    "application/vnd.databricks.v1+cell": {
     "cellMetadata": {
      "byteLimit": 2048000,
      "rowLimit": 10000
     },
     "inputWidgets": {},
     "nuid": "641c6c17-e3c7-4aaa-86ad-ac1776d038e9",
     "showTitle": false,
     "title": ""
    }
   },
   "outputs": [],
   "source": [
    "keys = spark.read.csv('/FileStore/tables/dev_user_databricks_accessKeys.csv', inferSchema=True, header=True)\n",
    "Access_Id = keys.first()[0]\n",
    "Secret_Id = keys.first()[1]\n",
    "\n",
    "access_key = Access_Id\n",
    "secret_key = Secret_Id\n",
    "sc._jsc.hadoopConfiguration().set(\"fs.s3a.access.key\", access_key)\n",
    "sc._jsc.hadoopConfiguration().set(\"fs.s3a.secret.key\", secret_key)\n",
    "\n",
    "aws_region = \"us-east-1\"\n",
    "sc._jsc.hadoopConfiguration().set(\"fs.s3a.endpoint\", \"s3.\" + aws_region + \".amazonaws.com\")"
   ]
  },
  {
   "cell_type": "code",
   "execution_count": 0,
   "metadata": {
    "application/vnd.databricks.v1+cell": {
     "cellMetadata": {
      "byteLimit": 2048000,
      "rowLimit": 10000
     },
     "inputWidgets": {},
     "nuid": "df23e8cb-29ff-4c05-9109-436ad9f78d16",
     "showTitle": false,
     "title": ""
    }
   },
   "outputs": [],
   "source": [
    "from pyspark.sql.functions import col\n",
    "from pyspark.sql.types import StructType, StructField, IntegerType, StringType, DoubleType, TimestampType\n",
    "\n",
    "schema = StructType([\n",
    "    StructField('InvoiceNo', IntegerType(), True),\n",
    "    StructField('StockCode', StringType(), True),\n",
    "    StructField('Description', StringType(), True),\n",
    "    StructField('Quantity', IntegerType(), True),\n",
    "    StructField('InvoiceDate', StringType(), True),\n",
    "    StructField('UnitPrice', DoubleType(), True),\n",
    "    StructField('CustomerID', StringType(), True),\n",
    "    StructField('Country', StringType(), True),\n",
    "])"
   ]
  },
  {
   "cell_type": "code",
   "execution_count": 0,
   "metadata": {
    "application/vnd.databricks.v1+cell": {
     "cellMetadata": {
      "byteLimit": 2048000,
      "rowLimit": 10000
     },
     "inputWidgets": {},
     "nuid": "95fdedda-80b4-474e-88d8-1d56f4726e1d",
     "showTitle": false,
     "title": ""
    }
   },
   "outputs": [
    {
     "output_type": "stream",
     "name": "stdout",
     "output_type": "stream",
     "text": [
      "541909 8\n+---------+---------+--------------------+--------+----------------+---------+----------+--------------+\n|InvoiceNo|StockCode|         Description|Quantity|     InvoiceDate|UnitPrice|CustomerID|       Country|\n+---------+---------+--------------------+--------+----------------+---------+----------+--------------+\n|   536365|   85123A|WHITE HANGING HEA...|       6|12-01-2010 08:26|     2.55|     17850|United Kingdom|\n|   536365|    71053| WHITE METAL LANTERN|       6|12-01-2010 08:26|     3.39|     17850|United Kingdom|\n|   536365|   84406B|CREAM CUPID HEART...|       8|12-01-2010 08:26|     2.75|     17850|United Kingdom|\n|   536365|   84029G|KNITTED UNION FLA...|       6|12-01-2010 08:26|     3.39|     17850|United Kingdom|\n|   536365|   84029E|RED WOOLLY HOTTIE...|       6|12-01-2010 08:26|     3.39|     17850|United Kingdom|\n+---------+---------+--------------------+--------+----------------+---------+----------+--------------+\nonly showing top 5 rows\n\n"
     ]
    }
   ],
   "source": [
    "df = spark.read.csv('s3://project-bucket-17/Cust_transaction_Data.csv', schema=schema, header=True)\n",
    "print(df.count(), len(df.columns))\n",
    "df.show(5)"
   ]
  },
  {
   "cell_type": "code",
   "execution_count": 0,
   "metadata": {
    "application/vnd.databricks.v1+cell": {
     "cellMetadata": {
      "byteLimit": 2048000,
      "rowLimit": 10000
     },
     "inputWidgets": {},
     "nuid": "adc678c3-1954-423d-afb6-4fab657aadff",
     "showTitle": false,
     "title": ""
    }
   },
   "outputs": [
    {
     "output_type": "stream",
     "name": "stdout",
     "output_type": "stream",
     "text": [
      "+-------+------------------+------------------+--------------------+------------------+----------------+-----------------+------------------+-----------+\n|summary|         InvoiceNo|         StockCode|         Description|          Quantity|     InvoiceDate|        UnitPrice|        CustomerID|    Country|\n+-------+------------------+------------------+--------------------+------------------+----------------+-----------------+------------------+-----------+\n|  count|            532618|            541909|              540455|            541909|          541909|           541909|            406829|     541909|\n|   mean|  559965.752026781|27623.240210938104|             20713.0|  9.55224954743324|            null|4.611113626089712|15287.690570239585|       null|\n| stddev|13428.417280797716|16799.737628427665|                null|218.08115785023435|            null|96.75985306117957|1713.6003033215968|       null|\n|    min|            536365|             10002| 4 PURPLE FLOCK D...|            -80995|01-04-2011 10:00|        -11062.06|             12346|  Australia|\n|    max|            581587|                 m|   wrongly sold sets|             80995|  9/30/2011 9:45|          38970.0|             18287|Unspecified|\n+-------+------------------+------------------+--------------------+------------------+----------------+-----------------+------------------+-----------+\n\n"
     ]
    }
   ],
   "source": [
    "summary = df.describe()\n",
    "summary.show()"
   ]
  },
  {
   "cell_type": "code",
   "execution_count": 0,
   "metadata": {
    "application/vnd.databricks.v1+cell": {
     "cellMetadata": {
      "byteLimit": 2048000,
      "rowLimit": 10000
     },
     "inputWidgets": {},
     "nuid": "afbc23a6-22af-4fc8-b065-c466d429bc61",
     "showTitle": false,
     "title": ""
    }
   },
   "outputs": [
    {
     "output_type": "stream",
     "name": "stdout",
     "output_type": "stream",
     "text": [
      "495478 8\n+---------+---------+--------------------+--------+----------------+---------+----------+--------------+\n|InvoiceNo|StockCode|         Description|Quantity|     InvoiceDate|UnitPrice|CustomerID|       Country|\n+---------+---------+--------------------+--------+----------------+---------+----------+--------------+\n|   536365|   85123A|WHITE HANGING HEA...|       6|12-01-2010 08:26|     2.55|     17850|United Kingdom|\n|   536365|    71053| WHITE METAL LANTERN|       6|12-01-2010 08:26|     3.39|     17850|United Kingdom|\n|   536365|   84406B|CREAM CUPID HEART...|       8|12-01-2010 08:26|     2.75|     17850|United Kingdom|\n|   536365|   84029G|KNITTED UNION FLA...|       6|12-01-2010 08:26|     3.39|     17850|United Kingdom|\n|   536365|   84029E|RED WOOLLY HOTTIE...|       6|12-01-2010 08:26|     3.39|     17850|United Kingdom|\n+---------+---------+--------------------+--------+----------------+---------+----------+--------------+\nonly showing top 5 rows\n\n"
     ]
    }
   ],
   "source": [
    "# Keep only United Kingdom data\n",
    "uk_data = df.filter(col('Country') == 'United Kingdom')\n",
    "print(uk_data.count(), len(uk_data.columns))\n",
    "uk_data.show(5)"
   ]
  },
  {
   "cell_type": "code",
   "execution_count": 0,
   "metadata": {
    "application/vnd.databricks.v1+cell": {
     "cellMetadata": {
      "byteLimit": 2048000,
      "rowLimit": 10000
     },
     "inputWidgets": {},
     "nuid": "0cdffa5a-a119-43ed-a41e-50c1141dedbc",
     "showTitle": false,
     "title": ""
    }
   },
   "outputs": [
    {
     "output_type": "stream",
     "name": "stdout",
     "output_type": "stream",
     "text": [
      "361878 8\n"
     ]
    }
   ],
   "source": [
    "# Remove rows with missing CustomerID\n",
    "uk_data = uk_data.filter(col('CustomerID').isNotNull())\n",
    "print(uk_data.count(), len(uk_data.columns))"
   ]
  },
  {
   "cell_type": "code",
   "execution_count": 0,
   "metadata": {
    "application/vnd.databricks.v1+cell": {
     "cellMetadata": {
      "byteLimit": 2048000,
      "rowLimit": 10000
     },
     "inputWidgets": {},
     "nuid": "62d00f45-5092-4edf-a0d9-34b6e0b2082d",
     "showTitle": false,
     "title": ""
    }
   },
   "outputs": [
    {
     "output_type": "stream",
     "name": "stdout",
     "output_type": "stream",
     "text": [
      "354345 8\n"
     ]
    }
   ],
   "source": [
    "# Filter out records with Positive values\n",
    "uk_data = uk_data.filter(col('Quantity') > 0)\n",
    "print(uk_data.count(), len(uk_data.columns))"
   ]
  },
  {
   "cell_type": "code",
   "execution_count": 0,
   "metadata": {
    "application/vnd.databricks.v1+cell": {
     "cellMetadata": {
      "byteLimit": 2048000,
      "rowLimit": 10000
     },
     "inputWidgets": {},
     "nuid": "4bf322c4-2737-454d-8cbb-1312191b641c",
     "showTitle": false,
     "title": ""
    }
   },
   "outputs": [
    {
     "output_type": "stream",
     "name": "stdout",
     "output_type": "stream",
     "text": [
      "+---------+---------+--------------------+--------+----------------+---------+----------+--------------+-------------------+\n|InvoiceNo|StockCode|         Description|Quantity|     InvoiceDate|UnitPrice|CustomerID|       Country|        date_parsed|\n+---------+---------+--------------------+--------+----------------+---------+----------+--------------+-------------------+\n|   536365|   85123A|WHITE HANGING HEA...|       6|12-01-2010 08:26|     2.55|     17850|United Kingdom|2010-12-01 08:26:00|\n|   536365|    71053| WHITE METAL LANTERN|       6|12-01-2010 08:26|     3.39|     17850|United Kingdom|2010-12-01 08:26:00|\n|   536365|   84406B|CREAM CUPID HEART...|       8|12-01-2010 08:26|     2.75|     17850|United Kingdom|2010-12-01 08:26:00|\n|   536365|   84029G|KNITTED UNION FLA...|       6|12-01-2010 08:26|     3.39|     17850|United Kingdom|2010-12-01 08:26:00|\n|   536365|   84029E|RED WOOLLY HOTTIE...|       6|12-01-2010 08:26|     3.39|     17850|United Kingdom|2010-12-01 08:26:00|\n+---------+---------+--------------------+--------+----------------+---------+----------+--------------+-------------------+\nonly showing top 5 rows\n\n"
     ]
    }
   ],
   "source": [
    "from pyspark.sql.functions import to_timestamp, coalesce\n",
    "\n",
    "format1 = \"MM-dd-yyyy HH:mm\"\n",
    "format2 = \"MM/dd/yyyy HH:mm\"\n",
    "format3 = \"MM/dd/yyyy H:mm\"\n",
    "\n",
    "# Convert to timestamp\n",
    "df = df.withColumn(\n",
    "    \"date_parsed\",\n",
    "    coalesce(\n",
    "        to_timestamp(col('InvoiceDate'), format1),\n",
    "        to_timestamp(col('InvoiceDate'), format2),\n",
    "        to_timestamp(col('InvoiceDate'), format3)\n",
    "    )\n",
    ")\n",
    "\n",
    "df.show(5)\n"
   ]
  },
  {
   "cell_type": "code",
   "execution_count": 0,
   "metadata": {
    "application/vnd.databricks.v1+cell": {
     "cellMetadata": {
      "byteLimit": 2048000,
      "rowLimit": 10000
     },
     "inputWidgets": {},
     "nuid": "8a9551a6-4eb4-43a2-9a61-ce3771abcf84",
     "showTitle": false,
     "title": ""
    }
   },
   "outputs": [],
   "source": [
    "# Add new column depicting total amount\n",
    "uk_data = uk_data.withColumn(\"TotalAmount\", col(\"Quantity\") * col(\"UnitPrice\"))"
   ]
  },
  {
   "cell_type": "code",
   "execution_count": 0,
   "metadata": {
    "application/vnd.databricks.v1+cell": {
     "cellMetadata": {
      "byteLimit": 2048000,
      "rowLimit": 10000
     },
     "inputWidgets": {},
     "nuid": "db386688-28dc-4c9a-9a4c-092a0cd7252e",
     "showTitle": false,
     "title": ""
    }
   },
   "outputs": [
    {
     "output_type": "stream",
     "name": "stdout",
     "output_type": "stream",
     "text": [
      "Out[49]: (354345, 9)"
     ]
    }
   ],
   "source": [
    "uk_data.count(), len(uk_data.columns)"
   ]
  },
  {
   "cell_type": "code",
   "execution_count": 0,
   "metadata": {
    "application/vnd.databricks.v1+cell": {
     "cellMetadata": {
      "byteLimit": 2048000,
      "rowLimit": 10000
     },
     "inputWidgets": {},
     "nuid": "e754a9e0-ae12-4f6c-b190-65ea4fba68ed",
     "showTitle": false,
     "title": ""
    }
   },
   "outputs": [
    {
     "output_type": "stream",
     "name": "stdout",
     "output_type": "stream",
     "text": [
      "+---------+---------+-----------+--------+-----------+---------+----------+-------+-----------+\n|InvoiceNo|StockCode|Description|Quantity|InvoiceDate|UnitPrice|CustomerID|Country|TotalAmount|\n+---------+---------+-----------+--------+-----------+---------+----------+-------+-----------+\n|        0|        0|          0|       0|          0|        0|         0|      0|          0|\n+---------+---------+-----------+--------+-----------+---------+----------+-------+-----------+\n\n"
     ]
    }
   ],
   "source": [
    "from pyspark.sql.functions import col, count, when\n",
    "null_counts = uk_data.select([count(when(col(c).isNull(), c)).alias(c) for c in uk_data.columns])\n",
    "null_counts.show()"
   ]
  },
  {
   "cell_type": "code",
   "execution_count": 0,
   "metadata": {
    "application/vnd.databricks.v1+cell": {
     "cellMetadata": {
      "byteLimit": 2048000,
      "rowLimit": 10000
     },
     "inputWidgets": {},
     "nuid": "d490ee02-ec18-4530-a6ad-3213cf9ec372",
     "showTitle": false,
     "title": ""
    }
   },
   "outputs": [],
   "source": [
    "# Creating repartition as 1 to get single file\n",
    "uk_data = uk_data.repartition(1)"
   ]
  },
  {
   "cell_type": "code",
   "execution_count": 0,
   "metadata": {
    "application/vnd.databricks.v1+cell": {
     "cellMetadata": {
      "byteLimit": 2048000,
      "rowLimit": 10000
     },
     "inputWidgets": {},
     "nuid": "cd0b5d33-d3e5-4844-9c41-deb550b51957",
     "showTitle": false,
     "title": ""
    }
   },
   "outputs": [],
   "source": [
    "# Exporting the file into s3 bucket as a parquet format\n",
    "# uk_data.write.mode('overwrite').parquet('s3://project-bucket-17/Output_uk_data')"
   ]
  },
  {
   "cell_type": "code",
   "execution_count": 0,
   "metadata": {
    "application/vnd.databricks.v1+cell": {
     "cellMetadata": {
      "byteLimit": 2048000,
      "rowLimit": 10000
     },
     "inputWidgets": {},
     "nuid": "dfb45dbe-befc-4c80-828f-e6ab5492f106",
     "showTitle": false,
     "title": ""
    }
   },
   "outputs": [],
   "source": []
  }
 ],
 "metadata": {
  "application/vnd.databricks.v1+notebook": {
   "dashboards": [],
   "environmentMetadata": null,
   "language": "python",
   "notebookMetadata": {
    "mostRecentlyExecutedCommandWithImplicitDF": {
     "commandId": 1457749771676039,
     "dataframes": [
      "_sqldf"
     ]
    },
    "pythonIndentUnit": 4
   },
   "notebookName": "01_EDA",
   "widgets": {}
  }
 },
 "nbformat": 4,
 "nbformat_minor": 0
}
