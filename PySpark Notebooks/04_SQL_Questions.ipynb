{
 "cells": [
  {
   "cell_type": "code",
   "execution_count": 0,
   "metadata": {
    "application/vnd.databricks.v1+cell": {
     "cellMetadata": {
      "byteLimit": 2048000,
      "rowLimit": 10000
     },
     "inputWidgets": {},
     "nuid": "779d5d16-013e-40e4-af86-e43aca18554e",
     "showTitle": false,
     "title": ""
    }
   },
   "outputs": [],
   "source": [
    "keys = spark.read.csv('/FileStore/tables/dev_user_databricks_accessKeys.csv', inferSchema=True, header=True)\n",
    "Access_Id = keys.first()[0]\n",
    "Secret_Id = keys.first()[1]\n",
    "\n",
    "access_key = Access_Id\n",
    "secret_key = Secret_Id\n",
    "sc._jsc.hadoopConfiguration().set(\"fs.s3a.access.key\", access_key)\n",
    "sc._jsc.hadoopConfiguration().set(\"fs.s3a.secret.key\", secret_key)\n",
    "\n",
    "aws_region = \"us-east-1\"\n",
    "sc._jsc.hadoopConfiguration().set(\"fs.s3a.endpoint\", \"s3.\" + aws_region + \".amazonaws.com\")"
   ]
  },
  {
   "cell_type": "code",
   "execution_count": 0,
   "metadata": {
    "application/vnd.databricks.v1+cell": {
     "cellMetadata": {
      "byteLimit": 2048000,
      "rowLimit": 10000
     },
     "inputWidgets": {},
     "nuid": "b9a9a7cf-a959-4e2a-898a-54543c27fd11",
     "showTitle": false,
     "title": ""
    }
   },
   "outputs": [
    {
     "output_type": "stream",
     "name": "stdout",
     "output_type": "stream",
     "text": [
      "3921 12\n+----------+-------+---------+-----------------+---+---+---+--------+--------+-----------------+-------+-----+\n|CustomerID|Recency|Frequency|         Monetary|  R|  F|  M|RFMGroup|RFMScore|RFM_Loyalty_Level|Cluster|Color|\n+----------+-------+---------+-----------------+---+---+---+--------+--------+-----------------+-------+-----+\n|     12346|    325|        1|          77183.6|  1|  1|  5|     115|       7|           Silver|      0|  red|\n|     12747|      2|      103|4196.009999999999|  5|  4|  5|     545|      14|          Diamond|      2| blue|\n|     12748|      1|     4596|         33719.73|  5|  5|  5|     555|      15|          Diamond|      2| blue|\n|     12749|      3|      199|          4090.88|  5|  5|  5|     555|      15|          Diamond|      2| blue|\n|     12820|      3|       59|           942.34|  5|  4|  4|     544|      13|         Platinum|      2| blue|\n+----------+-------+---------+-----------------+---+---+---+--------+--------+-----------------+-------+-----+\nonly showing top 5 rows\n\n"
     ]
    }
   ],
   "source": [
    "df = spark.read.csv('s3://project-bucket-17/Output_KMeans', inferSchema=True, header=True)\n",
    "print(df.count(), len(df.columns))\n",
    "df.show(5)"
   ]
  },
  {
   "cell_type": "code",
   "execution_count": 0,
   "metadata": {
    "application/vnd.databricks.v1+cell": {
     "cellMetadata": {
      "byteLimit": 2048000,
      "rowLimit": 10000
     },
     "inputWidgets": {},
     "nuid": "e2df78dd-af36-4966-9dcb-ca213121a5c9",
     "showTitle": false,
     "title": ""
    }
   },
   "outputs": [
    {
     "output_type": "stream",
     "name": "stdout",
     "output_type": "stream",
     "text": [
      "root\n |-- CustomerID: integer (nullable = true)\n |-- Recency: integer (nullable = true)\n |-- Frequency: integer (nullable = true)\n |-- Monetary: double (nullable = true)\n |-- R: integer (nullable = true)\n |-- F: integer (nullable = true)\n |-- M: integer (nullable = true)\n |-- RFMGroup: integer (nullable = true)\n |-- RFMScore: integer (nullable = true)\n |-- RFM_Loyalty_Level: string (nullable = true)\n |-- Cluster: integer (nullable = true)\n |-- Color: string (nullable = true)\n\n"
     ]
    }
   ],
   "source": [
    "df.printSchema()"
   ]
  },
  {
   "cell_type": "code",
   "execution_count": 0,
   "metadata": {
    "application/vnd.databricks.v1+cell": {
     "cellMetadata": {
      "byteLimit": 2048000,
      "rowLimit": 10000
     },
     "inputWidgets": {},
     "nuid": "a598f5d3-3bca-4967-8ec5-46c80085ef11",
     "showTitle": false,
     "title": ""
    }
   },
   "outputs": [],
   "source": [
    "df.createOrReplaceTempView(\"customers\")"
   ]
  },
  {
   "cell_type": "code",
   "execution_count": 0,
   "metadata": {
    "application/vnd.databricks.v1+cell": {
     "cellMetadata": {
      "byteLimit": 2048000,
      "rowLimit": 10000
     },
     "inputWidgets": {},
     "nuid": "af111228-e765-4977-a6ba-71a94e566c9f",
     "showTitle": false,
     "title": ""
    }
   },
   "outputs": [
    {
     "output_type": "stream",
     "name": "stdout",
     "output_type": "stream",
     "text": [
      "+----------+-------+---------+-----------------+---+---+---+--------+--------+-----------------+-------+-----+\n|CustomerID|Recency|Frequency|         Monetary|  R|  F|  M|RFMGroup|RFMScore|RFM_Loyalty_Level|Cluster|Color|\n+----------+-------+---------+-----------------+---+---+---+--------+--------+-----------------+-------+-----+\n|     12346|    325|        1|          77183.6|  1|  1|  5|     115|       7|           Silver|      0|  red|\n|     12747|      2|      103|4196.009999999999|  5|  4|  5|     545|      14|          Diamond|      2| blue|\n|     12748|      1|     4596|         33719.73|  5|  5|  5|     555|      15|          Diamond|      2| blue|\n|     12749|      3|      199|          4090.88|  5|  5|  5|     555|      15|          Diamond|      2| blue|\n|     12820|      3|       59|           942.34|  5|  4|  4|     544|      13|         Platinum|      2| blue|\n+----------+-------+---------+-----------------+---+---+---+--------+--------+-----------------+-------+-----+\nonly showing top 5 rows\n\n"
     ]
    }
   ],
   "source": [
    "# MySQL Queries\n",
    "spark.sql('select * from customers').show(5)"
   ]
  },
  {
   "cell_type": "code",
   "execution_count": 0,
   "metadata": {
    "application/vnd.databricks.v1+cell": {
     "cellMetadata": {
      "byteLimit": 2048000,
      "rowLimit": 10000
     },
     "inputWidgets": {},
     "nuid": "1df36267-73e1-4dd1-bad3-38bd72bf3486",
     "showTitle": false,
     "title": ""
    }
   },
   "outputs": [
    {
     "output_type": "stream",
     "name": "stdout",
     "output_type": "stream",
     "text": [
      "+---------------+\n|Total_Customers|\n+---------------+\n|           3921|\n+---------------+\n\n"
     ]
    }
   ],
   "source": [
    "# How many Distinct customers do we have in our database\n",
    "spark.sql('select count(distinct CustomerID) as Total_Customers from customers').show()"
   ]
  },
  {
   "cell_type": "code",
   "execution_count": 0,
   "metadata": {
    "application/vnd.databricks.v1+cell": {
     "cellMetadata": {
      "byteLimit": 2048000,
      "rowLimit": 10000
     },
     "inputWidgets": {},
     "nuid": "f642546f-b78b-456e-ad01-648051886929",
     "showTitle": false,
     "title": ""
    }
   },
   "outputs": [
    {
     "output_type": "stream",
     "name": "stdout",
     "output_type": "stream",
     "text": [
      "+----------+------------------+\n|CustomerID|    Monetary_value|\n+----------+------------------+\n|     12940|            913.54|\n|     13285|2709.1200000000003|\n|     13623| 747.7800000000001|\n|     13832|52.199999999999996|\n|     14450|483.24999999999994|\n|     14570|            218.06|\n|     15447|            155.17|\n|     15619|336.40000000000003|\n|     15727| 5178.959999999999|\n|     15790|            220.85|\n|     15957|428.89000000000004|\n|     16339|109.95000000000002|\n|     16386|             317.2|\n|     16503|1431.9299999999998|\n|     16574|451.43999999999994|\n|     16861|            173.76|\n|     17389|          31833.68|\n|     17420|            598.83|\n|     17679|1992.1100000000001|\n|     18024|            389.78|\n+----------+------------------+\nonly showing top 20 rows\n\n"
     ]
    }
   ],
   "source": [
    "# What is the Monetary value generated by each customer?\n",
    "spark.sql('select CustomerID, sum(Monetary) as Monetary_value from customers group by CustomerID').show()"
   ]
  },
  {
   "cell_type": "code",
   "execution_count": 0,
   "metadata": {
    "application/vnd.databricks.v1+cell": {
     "cellMetadata": {
      "byteLimit": 2048000,
      "rowLimit": 10000
     },
     "inputWidgets": {},
     "nuid": "6deed138-9cde-4bc5-87bc-8b1db212e816",
     "showTitle": false,
     "title": ""
    }
   },
   "outputs": [
    {
     "output_type": "stream",
     "name": "stdout",
     "output_type": "stream",
     "text": [
      "+----------+------------------+\n|CustomerID|     total_revenue|\n+----------+------------------+\n|     18102|          259657.3|\n|     17450|194550.78999999998|\n|     16446|          168472.5|\n|     17511|          91062.38|\n|     16029|          81024.84|\n|     12346|           77183.6|\n|     16684|          66653.56|\n|     14096|          65164.79|\n|     13694|65039.619999999995|\n|     15311|60767.899999999994|\n|     13089|          58825.83|\n|     17949| 58510.48000000001|\n|     15769|          56252.72|\n|     15061|          54534.14|\n|     14298|51527.299999999996|\n|     14088|          50491.81|\n|     15749|           44534.3|\n|     12931|          42055.96|\n|     17841|          40991.57|\n|     15098|           39916.5|\n+----------+------------------+\nonly showing top 20 rows\n\n"
     ]
    }
   ],
   "source": [
    "# Who are the top 10% of customers in terms of monetary value?\n",
    "\n",
    "spark.sql('with customer_revenue as (select CustomerID, sum(Monetary) as total_revenue from customers group by CustomerID ) \\\n",
    "    select CustomerID, total_revenue \\\n",
    "        from (select CustomerID, total_revenue, ntile(10) over(order by total_revenue desc) as percentile from customer_revenue ) as customer_percentiles \\\n",
    "        where percentile = 1').show()\n"
   ]
  },
  {
   "cell_type": "code",
   "execution_count": 0,
   "metadata": {
    "application/vnd.databricks.v1+cell": {
     "cellMetadata": {
      "byteLimit": 2048000,
      "rowLimit": 10000
     },
     "inputWidgets": {},
     "nuid": "a73c9f33-2769-425e-8747-95abfa49a89c",
     "showTitle": false,
     "title": ""
    }
   },
   "outputs": [
    {
     "output_type": "stream",
     "name": "stdout",
     "output_type": "stream",
     "text": [
      "+----------+---------+\n|CustomerID|RFM_Score|\n+----------+---------+\n|     15447|        3|\n|     14148|        3|\n|     17775|        3|\n|     13508|        3|\n|     13898|        3|\n|     16565|        3|\n|     15070|        3|\n|     14760|        3|\n|     14437|        3|\n|     17639|        3|\n|     14589|        3|\n|     16738|        3|\n|     16913|        3|\n|     15733|        3|\n|     15262|        3|\n|     18113|        3|\n|     16078|        3|\n|     15083|        3|\n|     18050|        3|\n|     13101|        3|\n+----------+---------+\nonly showing top 20 rows\n\n"
     ]
    }
   ],
   "source": [
    "# Who are the Top 10% of customers in terms of RFM Score ?\n",
    "\n",
    "spark.sql('with customer_revenue as (select CustomerID, sum(RFMScore) as RFM_Score from customers group by CustomerID ) \\\n",
    "    select CustomerID, RFM_Score from ( select CustomerID, RFM_Score, NTILE(10) over(order by RFM_Score asc) as percentile from customer_revenue ) as customer_percentiles where percentile = 1').show()\n"
   ]
  },
  {
   "cell_type": "code",
   "execution_count": 0,
   "metadata": {
    "application/vnd.databricks.v1+cell": {
     "cellMetadata": {
      "byteLimit": 2048000,
      "rowLimit": 10000
     },
     "inputWidgets": {},
     "nuid": "69f8fc33-a1a6-41dc-9732-8980f21d8ccf",
     "showTitle": false,
     "title": ""
    }
   },
   "outputs": [
    {
     "output_type": "stream",
     "name": "stdout",
     "output_type": "stream",
     "text": [
      "+----------+---------+\n|CustomerID|RFM_Score|\n+----------+---------+\n|     17389|       15|\n|     14713|       15|\n|     13468|       15|\n|     16549|       15|\n|     17346|       15|\n|     17677|       15|\n|     14085|       15|\n|     13994|       15|\n|     17001|       15|\n|     14180|       15|\n|     14554|       15|\n|     14056|       15|\n|     14367|       15|\n|     16265|       15|\n|     16839|       15|\n|     15531|       15|\n|     16684|       15|\n|     16326|       15|\n|     13081|       15|\n|     14961|       15|\n+----------+---------+\nonly showing top 20 rows\n\n"
     ]
    }
   ],
   "source": [
    "# Who are the Least 10% of customers in terms of RFM Score ?\n",
    "\n",
    "spark.sql('with customer_revenue AS (select CustomerID, SUM(RFMScore) as RFM_Score from customers group by CustomerID ) \\\n",
    "    select CustomerID, RFM_Score from ( select CustomerID, RFM_Score, NTILE(10) over(order by RFM_Score desc) as percentile from customer_revenue ) as customer_percentiles where percentile = 1').show()\n"
   ]
  },
  {
   "cell_type": "code",
   "execution_count": 0,
   "metadata": {
    "application/vnd.databricks.v1+cell": {
     "cellMetadata": {
      "byteLimit": 2048000,
      "rowLimit": 10000
     },
     "inputWidgets": {},
     "nuid": "5a6ce522-dbf6-4f9f-9bd0-f4745e0af105",
     "showTitle": false,
     "title": ""
    }
   },
   "outputs": [
    {
     "output_type": "stream",
     "name": "stdout",
     "output_type": "stream",
     "text": [
      "+----------+-------+---------+-----------------+---+---+---+--------+--------+-----------------+-------+-----+\n|CustomerID|Recency|Frequency|         Monetary|  R|  F|  M|RFMGroup|RFMScore|RFM_Loyalty_Level|Cluster|Color|\n+----------+-------+---------+-----------------+---+---+---+--------+--------+-----------------+-------+-----+\n|     12748|      1|     4596|         33719.73|  5|  5|  5|     555|      15|          Diamond|      2| blue|\n|     12749|      3|      199|          4090.88|  5|  5|  5|     555|      15|          Diamond|      2| blue|\n|     12839|      2|      314|          5591.42|  5|  5|  5|     555|      15|          Diamond|      2| blue|\n|     12841|      4|      420|          4022.35|  5|  5|  5|     555|      15|          Diamond|      2| blue|\n|     12856|      7|      314|          2179.93|  5|  5|  5|     555|      15|          Diamond|      2| blue|\n|     12921|      9|      720|         16587.09|  5|  5|  5|     555|      15|          Diamond|      2| blue|\n|     12935|      2|      129|           2160.7|  5|  5|  5|     555|      15|          Diamond|      2| blue|\n|     12955|      1|      180|4757.160000000001|  5|  5|  5|     555|      15|          Diamond|      2| blue|\n|     12957|      9|      238|          4017.54|  5|  5|  5|     555|      15|          Diamond|      2| blue|\n|     12971|      3|      305|         11189.91|  5|  5|  5|     555|      15|          Diamond|      2| blue|\n+----------+-------+---------+-----------------+---+---+---+--------+--------+-----------------+-------+-----+\n\n"
     ]
    }
   ],
   "source": [
    "# Identify the top 10 customers with an RFM score of 555:\n",
    "spark.sql('select * from customers where R=5 and F=5 and M=5 order by RFMScore limit 10').show()"
   ]
  },
  {
   "cell_type": "code",
   "execution_count": 0,
   "metadata": {
    "application/vnd.databricks.v1+cell": {
     "cellMetadata": {
      "byteLimit": 2048000,
      "rowLimit": 10000
     },
     "inputWidgets": {},
     "nuid": "1e1ad0d8-9ff7-4f70-be25-a72e6e1fd8f4",
     "showTitle": false,
     "title": ""
    }
   },
   "outputs": [
    {
     "output_type": "stream",
     "name": "stdout",
     "output_type": "stream",
     "text": [
      "+-----------+--------------+\n|rfm_segment|customer_count|\n+-----------+--------------+\n|        555|           283|\n|        554|            67|\n|        553|            18|\n|        552|             2|\n|        545|            65|\n|        544|            78|\n|        543|            25|\n|        542|            14|\n|        541|             3|\n|        535|            15|\n|        534|            32|\n|        533|            44|\n|        532|            19|\n|        531|            10|\n|        525|             3|\n|        524|            12|\n|        523|            16|\n|        522|            29|\n|        521|             7|\n|        515|             3|\n+-----------+--------------+\nonly showing top 20 rows\n\n"
     ]
    }
   ],
   "source": [
    "# Count the number of customers in each RFM Segment :\n",
    "spark.sql('select concat(R, F, M) as rfm_segment, count(*) as customer_count from customers group by rfm_segment order by rfm_segment desc').show()"
   ]
  },
  {
   "cell_type": "code",
   "execution_count": 0,
   "metadata": {
    "application/vnd.databricks.v1+cell": {
     "cellMetadata": {},
     "inputWidgets": {},
     "nuid": "85fe3679-c8af-4349-b141-1370be4b935b",
     "showTitle": false,
     "title": ""
    }
   },
   "outputs": [],
   "source": []
  }
 ],
 "metadata": {
  "application/vnd.databricks.v1+notebook": {
   "dashboards": [],
   "environmentMetadata": null,
   "language": "python",
   "notebookMetadata": {
    "mostRecentlyExecutedCommandWithImplicitDF": {
     "commandId": -1,
     "dataframes": [
      "_sqldf"
     ]
    },
    "pythonIndentUnit": 4
   },
   "notebookName": "04_SQL_Questions",
   "widgets": {}
  }
 },
 "nbformat": 4,
 "nbformat_minor": 0
}
