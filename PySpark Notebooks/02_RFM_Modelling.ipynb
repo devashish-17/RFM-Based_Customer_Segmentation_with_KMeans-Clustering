{
 "cells": [
  {
   "cell_type": "code",
   "execution_count": 0,
   "metadata": {
    "application/vnd.databricks.v1+cell": {
     "cellMetadata": {
      "byteLimit": 2048000,
      "rowLimit": 10000
     },
     "inputWidgets": {},
     "nuid": "741c7087-753b-40a5-bc06-7d54f0b7e809",
     "showTitle": false,
     "title": ""
    }
   },
   "outputs": [],
   "source": [
    "keys = spark.read.csv('/FileStore/tables/dev_user_databricks_accessKeys.csv', inferSchema=True, header=True)\n",
    "Access_Id = keys.first()[0]\n",
    "Secret_Id = keys.first()[1]\n",
    "\n",
    "access_key = Access_Id\n",
    "secret_key = Secret_Id\n",
    "sc._jsc.hadoopConfiguration().set(\"fs.s3a.access.key\", access_key)\n",
    "sc._jsc.hadoopConfiguration().set(\"fs.s3a.secret.key\", secret_key)\n",
    "\n",
    "aws_region = \"us-east-1\"\n",
    "sc._jsc.hadoopConfiguration().set(\"fs.s3a.endpoint\", \"s3.\" + aws_region + \".amazonaws.com\")"
   ]
  },
  {
   "cell_type": "code",
   "execution_count": 0,
   "metadata": {
    "application/vnd.databricks.v1+cell": {
     "cellMetadata": {
      "byteLimit": 2048000,
      "rowLimit": 10000
     },
     "inputWidgets": {},
     "nuid": "847faee2-19a3-4a74-9668-4e512252e06b",
     "showTitle": false,
     "title": ""
    }
   },
   "outputs": [
    {
     "output_type": "display_data",
     "data": {
      "application/vnd.databricks.v1+bamboolib_hint": "{\"pd.DataFrames\": [], \"version\": \"0.0.1\"}",
      "text/plain": []
     },
     "metadata": {},
     "output_type": "display_data"
    }
   ],
   "source": [
    "import numpy as np\n",
    "import pandas as pd\n",
    "import matplotlib.pyplot as plt\n",
    "import seaborn as sns"
   ]
  },
  {
   "cell_type": "code",
   "execution_count": 0,
   "metadata": {
    "application/vnd.databricks.v1+cell": {
     "cellMetadata": {
      "byteLimit": 2048000,
      "rowLimit": 10000
     },
     "collapsed": true,
     "inputWidgets": {},
     "nuid": "fa175761-8855-4da3-967f-0cb4cb0bbec3",
     "showTitle": false,
     "title": ""
    }
   },
   "outputs": [],
   "source": [
    "# pip install fsspec\n",
    "# %pip install s3fs"
   ]
  },
  {
   "cell_type": "code",
   "execution_count": 0,
   "metadata": {
    "application/vnd.databricks.v1+cell": {
     "cellMetadata": {
      "byteLimit": 2048000,
      "rowLimit": 10000
     },
     "inputWidgets": {},
     "nuid": "1feb0980-a664-471d-995b-1d951b5b2b30",
     "showTitle": false,
     "title": ""
    }
   },
   "outputs": [
    {
     "output_type": "stream",
     "name": "stdout",
     "output_type": "stream",
     "text": [
      "(354345, 9)\n"
     ]
    },
    {
     "output_type": "display_data",
     "data": {
      "text/html": [
       "<div>\n",
       "<style scoped>\n",
       "    .dataframe tbody tr th:only-of-type {\n",
       "        vertical-align: middle;\n",
       "    }\n",
       "\n",
       "    .dataframe tbody tr th {\n",
       "        vertical-align: top;\n",
       "    }\n",
       "\n",
       "    .dataframe thead th {\n",
       "        text-align: right;\n",
       "    }\n",
       "</style>\n",
       "<table border=\"1\" class=\"dataframe\">\n",
       "  <thead>\n",
       "    <tr style=\"text-align: right;\">\n",
       "      <th></th>\n",
       "      <th>InvoiceNo</th>\n",
       "      <th>StockCode</th>\n",
       "      <th>Description</th>\n",
       "      <th>Quantity</th>\n",
       "      <th>InvoiceDate</th>\n",
       "      <th>UnitPrice</th>\n",
       "      <th>CustomerID</th>\n",
       "      <th>Country</th>\n",
       "      <th>TotalAmount</th>\n",
       "    </tr>\n",
       "  </thead>\n",
       "  <tbody>\n",
       "    <tr>\n",
       "      <th>0</th>\n",
       "      <td>536365</td>\n",
       "      <td>85123A</td>\n",
       "      <td>WHITE HANGING HEART T-LIGHT HOLDER</td>\n",
       "      <td>6</td>\n",
       "      <td>12-01-2010 08:26</td>\n",
       "      <td>2.55</td>\n",
       "      <td>17850</td>\n",
       "      <td>United Kingdom</td>\n",
       "      <td>15.30</td>\n",
       "    </tr>\n",
       "    <tr>\n",
       "      <th>1</th>\n",
       "      <td>536365</td>\n",
       "      <td>71053</td>\n",
       "      <td>WHITE METAL LANTERN</td>\n",
       "      <td>6</td>\n",
       "      <td>12-01-2010 08:26</td>\n",
       "      <td>3.39</td>\n",
       "      <td>17850</td>\n",
       "      <td>United Kingdom</td>\n",
       "      <td>20.34</td>\n",
       "    </tr>\n",
       "    <tr>\n",
       "      <th>2</th>\n",
       "      <td>536365</td>\n",
       "      <td>84406B</td>\n",
       "      <td>CREAM CUPID HEARTS COAT HANGER</td>\n",
       "      <td>8</td>\n",
       "      <td>12-01-2010 08:26</td>\n",
       "      <td>2.75</td>\n",
       "      <td>17850</td>\n",
       "      <td>United Kingdom</td>\n",
       "      <td>22.00</td>\n",
       "    </tr>\n",
       "    <tr>\n",
       "      <th>3</th>\n",
       "      <td>536365</td>\n",
       "      <td>84029G</td>\n",
       "      <td>KNITTED UNION FLAG HOT WATER BOTTLE</td>\n",
       "      <td>6</td>\n",
       "      <td>12-01-2010 08:26</td>\n",
       "      <td>3.39</td>\n",
       "      <td>17850</td>\n",
       "      <td>United Kingdom</td>\n",
       "      <td>20.34</td>\n",
       "    </tr>\n",
       "    <tr>\n",
       "      <th>4</th>\n",
       "      <td>536365</td>\n",
       "      <td>84029E</td>\n",
       "      <td>RED WOOLLY HOTTIE WHITE HEART.</td>\n",
       "      <td>6</td>\n",
       "      <td>12-01-2010 08:26</td>\n",
       "      <td>3.39</td>\n",
       "      <td>17850</td>\n",
       "      <td>United Kingdom</td>\n",
       "      <td>20.34</td>\n",
       "    </tr>\n",
       "  </tbody>\n",
       "</table>\n",
       "</div>"
      ]
     },
     "metadata": {
      "application/vnd.databricks.v1+output": {
       "addedWidgets": {},
       "arguments": {},
       "data": "<div>\n<style scoped>\n    .dataframe tbody tr th:only-of-type {\n        vertical-align: middle;\n    }\n\n    .dataframe tbody tr th {\n        vertical-align: top;\n    }\n\n    .dataframe thead th {\n        text-align: right;\n    }\n</style>\n<table border=\"1\" class=\"dataframe\">\n  <thead>\n    <tr style=\"text-align: right;\">\n      <th></th>\n      <th>InvoiceNo</th>\n      <th>StockCode</th>\n      <th>Description</th>\n      <th>Quantity</th>\n      <th>InvoiceDate</th>\n      <th>UnitPrice</th>\n      <th>CustomerID</th>\n      <th>Country</th>\n      <th>TotalAmount</th>\n    </tr>\n  </thead>\n  <tbody>\n    <tr>\n      <th>0</th>\n      <td>536365</td>\n      <td>85123A</td>\n      <td>WHITE HANGING HEART T-LIGHT HOLDER</td>\n      <td>6</td>\n      <td>12-01-2010 08:26</td>\n      <td>2.55</td>\n      <td>17850</td>\n      <td>United Kingdom</td>\n      <td>15.30</td>\n    </tr>\n    <tr>\n      <th>1</th>\n      <td>536365</td>\n      <td>71053</td>\n      <td>WHITE METAL LANTERN</td>\n      <td>6</td>\n      <td>12-01-2010 08:26</td>\n      <td>3.39</td>\n      <td>17850</td>\n      <td>United Kingdom</td>\n      <td>20.34</td>\n    </tr>\n    <tr>\n      <th>2</th>\n      <td>536365</td>\n      <td>84406B</td>\n      <td>CREAM CUPID HEARTS COAT HANGER</td>\n      <td>8</td>\n      <td>12-01-2010 08:26</td>\n      <td>2.75</td>\n      <td>17850</td>\n      <td>United Kingdom</td>\n      <td>22.00</td>\n    </tr>\n    <tr>\n      <th>3</th>\n      <td>536365</td>\n      <td>84029G</td>\n      <td>KNITTED UNION FLAG HOT WATER BOTTLE</td>\n      <td>6</td>\n      <td>12-01-2010 08:26</td>\n      <td>3.39</td>\n      <td>17850</td>\n      <td>United Kingdom</td>\n      <td>20.34</td>\n    </tr>\n    <tr>\n      <th>4</th>\n      <td>536365</td>\n      <td>84029E</td>\n      <td>RED WOOLLY HOTTIE WHITE HEART.</td>\n      <td>6</td>\n      <td>12-01-2010 08:26</td>\n      <td>3.39</td>\n      <td>17850</td>\n      <td>United Kingdom</td>\n      <td>20.34</td>\n    </tr>\n  </tbody>\n</table>\n</div>",
       "datasetInfos": [],
       "metadata": {},
       "removedWidgets": [],
       "textData": null,
       "type": "htmlSandbox"
      }
     },
     "output_type": "display_data"
    }
   ],
   "source": [
    "df = spark.read.parquet('s3a://project-bucket-17/Output_uk_data/')\n",
    "pdf = df.toPandas()\n",
    "print(pdf.shape)\n",
    "pdf.head()"
   ]
  },
  {
   "cell_type": "code",
   "execution_count": 0,
   "metadata": {
    "application/vnd.databricks.v1+cell": {
     "cellMetadata": {
      "byteLimit": 2048000,
      "rowLimit": 10000
     },
     "inputWidgets": {},
     "nuid": "96505b2f-83bd-42fa-bc1c-fefc7114e800",
     "showTitle": false,
     "title": ""
    }
   },
   "outputs": [
    {
     "output_type": "stream",
     "name": "stdout",
     "output_type": "stream",
     "text": [
      "<class 'pandas.core.frame.DataFrame'>\nRangeIndex: 354345 entries, 0 to 354344\nData columns (total 9 columns):\n #   Column       Non-Null Count   Dtype         \n---  ------       --------------   -----         \n 0   InvoiceNo    354345 non-null  int32         \n 1   StockCode    354345 non-null  object        \n 2   Description  354345 non-null  object        \n 3   Quantity     354345 non-null  int32         \n 4   InvoiceDate  354345 non-null  datetime64[ns]\n 5   UnitPrice    354345 non-null  float64       \n 6   CustomerID   354345 non-null  object        \n 7   Country      354345 non-null  object        \n 8   TotalAmount  354345 non-null  float64       \ndtypes: datetime64[ns](1), float64(2), int32(2), object(4)\nmemory usage: 21.6+ MB\n"
     ]
    }
   ],
   "source": [
    "pdf['InvoiceDate'] = pd.to_datetime(pdf['InvoiceDate'])\n",
    "pdf.info()"
   ]
  },
  {
   "cell_type": "code",
   "execution_count": 0,
   "metadata": {
    "application/vnd.databricks.v1+cell": {
     "cellMetadata": {
      "byteLimit": 2048000,
      "rowLimit": 10000
     },
     "inputWidgets": {},
     "nuid": "821750d5-1791-42b0-9d29-c9f7663b5e59",
     "showTitle": false,
     "title": ""
    }
   },
   "outputs": [
    {
     "output_type": "display_data",
     "data": {
      "text/html": [
       "<div>\n",
       "<style scoped>\n",
       "    .dataframe tbody tr th:only-of-type {\n",
       "        vertical-align: middle;\n",
       "    }\n",
       "\n",
       "    .dataframe tbody tr th {\n",
       "        vertical-align: top;\n",
       "    }\n",
       "\n",
       "    .dataframe thead th {\n",
       "        text-align: right;\n",
       "    }\n",
       "</style>\n",
       "<table border=\"1\" class=\"dataframe\">\n",
       "  <thead>\n",
       "    <tr style=\"text-align: right;\">\n",
       "      <th></th>\n",
       "      <th>InvoiceNo</th>\n",
       "      <th>StockCode</th>\n",
       "      <th>Description</th>\n",
       "      <th>Quantity</th>\n",
       "      <th>InvoiceDate</th>\n",
       "      <th>UnitPrice</th>\n",
       "      <th>CustomerID</th>\n",
       "      <th>Country</th>\n",
       "      <th>TotalAmount</th>\n",
       "    </tr>\n",
       "  </thead>\n",
       "  <tbody>\n",
       "  </tbody>\n",
       "</table>\n",
       "</div>"
      ]
     },
     "metadata": {
      "application/vnd.databricks.v1+output": {
       "addedWidgets": {},
       "arguments": {},
       "data": "<div>\n<style scoped>\n    .dataframe tbody tr th:only-of-type {\n        vertical-align: middle;\n    }\n\n    .dataframe tbody tr th {\n        vertical-align: top;\n    }\n\n    .dataframe thead th {\n        text-align: right;\n    }\n</style>\n<table border=\"1\" class=\"dataframe\">\n  <thead>\n    <tr style=\"text-align: right;\">\n      <th></th>\n      <th>InvoiceNo</th>\n      <th>StockCode</th>\n      <th>Description</th>\n      <th>Quantity</th>\n      <th>InvoiceDate</th>\n      <th>UnitPrice</th>\n      <th>CustomerID</th>\n      <th>Country</th>\n      <th>TotalAmount</th>\n    </tr>\n  </thead>\n  <tbody>\n  </tbody>\n</table>\n</div>",
       "datasetInfos": [],
       "metadata": {},
       "removedWidgets": [],
       "textData": null,
       "type": "htmlSandbox"
      }
     },
     "output_type": "display_data"
    }
   ],
   "source": [
    "pdf[pdf['InvoiceDate'].isnull()]"
   ]
  },
  {
   "cell_type": "code",
   "execution_count": 0,
   "metadata": {
    "application/vnd.databricks.v1+cell": {
     "cellMetadata": {
      "byteLimit": 2048000,
      "rowLimit": 10000
     },
     "inputWidgets": {},
     "nuid": "41edbbec-88f0-4b41-b994-3399d5bb2c53",
     "showTitle": false,
     "title": ""
    }
   },
   "outputs": [
    {
     "output_type": "display_data",
     "data": {
      "text/html": [
       "<div>\n",
       "<style scoped>\n",
       "    .dataframe tbody tr th:only-of-type {\n",
       "        vertical-align: middle;\n",
       "    }\n",
       "\n",
       "    .dataframe tbody tr th {\n",
       "        vertical-align: top;\n",
       "    }\n",
       "\n",
       "    .dataframe thead th {\n",
       "        text-align: right;\n",
       "    }\n",
       "</style>\n",
       "<table border=\"1\" class=\"dataframe\">\n",
       "  <thead>\n",
       "    <tr style=\"text-align: right;\">\n",
       "      <th></th>\n",
       "      <th>CustomerID</th>\n",
       "      <th>Recency</th>\n",
       "      <th>Frequency</th>\n",
       "      <th>Monetary</th>\n",
       "    </tr>\n",
       "  </thead>\n",
       "  <tbody>\n",
       "    <tr>\n",
       "      <th>0</th>\n",
       "      <td>12346</td>\n",
       "      <td>325</td>\n",
       "      <td>1</td>\n",
       "      <td>77183.60</td>\n",
       "    </tr>\n",
       "    <tr>\n",
       "      <th>1</th>\n",
       "      <td>12747</td>\n",
       "      <td>2</td>\n",
       "      <td>103</td>\n",
       "      <td>4196.01</td>\n",
       "    </tr>\n",
       "    <tr>\n",
       "      <th>2</th>\n",
       "      <td>12748</td>\n",
       "      <td>0</td>\n",
       "      <td>4596</td>\n",
       "      <td>33719.73</td>\n",
       "    </tr>\n",
       "    <tr>\n",
       "      <th>3</th>\n",
       "      <td>12749</td>\n",
       "      <td>3</td>\n",
       "      <td>199</td>\n",
       "      <td>4090.88</td>\n",
       "    </tr>\n",
       "    <tr>\n",
       "      <th>4</th>\n",
       "      <td>12820</td>\n",
       "      <td>3</td>\n",
       "      <td>59</td>\n",
       "      <td>942.34</td>\n",
       "    </tr>\n",
       "  </tbody>\n",
       "</table>\n",
       "</div>"
      ]
     },
     "metadata": {
      "application/vnd.databricks.v1+output": {
       "addedWidgets": {},
       "arguments": {},
       "data": "<div>\n<style scoped>\n    .dataframe tbody tr th:only-of-type {\n        vertical-align: middle;\n    }\n\n    .dataframe tbody tr th {\n        vertical-align: top;\n    }\n\n    .dataframe thead th {\n        text-align: right;\n    }\n</style>\n<table border=\"1\" class=\"dataframe\">\n  <thead>\n    <tr style=\"text-align: right;\">\n      <th></th>\n      <th>CustomerID</th>\n      <th>Recency</th>\n      <th>Frequency</th>\n      <th>Monetary</th>\n    </tr>\n  </thead>\n  <tbody>\n    <tr>\n      <th>0</th>\n      <td>12346</td>\n      <td>325</td>\n      <td>1</td>\n      <td>77183.60</td>\n    </tr>\n    <tr>\n      <th>1</th>\n      <td>12747</td>\n      <td>2</td>\n      <td>103</td>\n      <td>4196.01</td>\n    </tr>\n    <tr>\n      <th>2</th>\n      <td>12748</td>\n      <td>0</td>\n      <td>4596</td>\n      <td>33719.73</td>\n    </tr>\n    <tr>\n      <th>3</th>\n      <td>12749</td>\n      <td>3</td>\n      <td>199</td>\n      <td>4090.88</td>\n    </tr>\n    <tr>\n      <th>4</th>\n      <td>12820</td>\n      <td>3</td>\n      <td>59</td>\n      <td>942.34</td>\n    </tr>\n  </tbody>\n</table>\n</div>",
       "datasetInfos": [],
       "metadata": {},
       "removedWidgets": [],
       "textData": null,
       "type": "htmlSandbox"
      }
     },
     "output_type": "display_data"
    }
   ],
   "source": [
    "import datetime as dt\n",
    "\n",
    "# Set Latest date 2011-12-10 as last invoice date was 2011-12-09. This is to calculate the number of days from recent purchase\n",
    "Latest_Date = dt.datetime(2011, 12, 10)\n",
    "\n",
    "# Create RFM Modelling scores for each customer\n",
    "RFMScores = pdf.groupby('CustomerID').agg({\n",
    "    'InvoiceDate': lambda x: (Latest_Date - x.max()).days,\n",
    "    'InvoiceNo': lambda x: len(x),\n",
    "    'TotalAmount': lambda x: x.sum()\n",
    "})\n",
    "\n",
    "# Convert Invoice Date into type int\n",
    "RFMScores['InvoiceDate'] = RFMScores['InvoiceDate'].astype(int)\n",
    "\n",
    "# Rename column names to Recency, Frequency, and Monetary\n",
    "RFMScores.rename(columns={\n",
    "    'InvoiceDate': 'Recency',\n",
    "    'InvoiceNo': 'Frequency',\n",
    "    'TotalAmount': 'Monetary'\n",
    "}, inplace=True)\n",
    "\n",
    "RFMScores.reset_index(inplace=True)\n",
    "RFMScores.head()\n"
   ]
  },
  {
   "cell_type": "code",
   "execution_count": 0,
   "metadata": {
    "application/vnd.databricks.v1+cell": {
     "cellMetadata": {
      "byteLimit": 2048000,
      "rowLimit": 10000
     },
     "inputWidgets": {},
     "nuid": "b935a9a6-61a3-4a08-8ef6-48991b3da6ef",
     "showTitle": false,
     "title": ""
    }
   },
   "outputs": [
    {
     "output_type": "stream",
     "name": "stdout",
     "output_type": "stream",
     "text": [
      "Out[8]: count    3921.000000\nmean       91.722265\nstd        99.528532\nmin         0.000000\n25%        17.000000\n50%        50.000000\n75%       142.000000\nmax       373.000000\nName: Recency, dtype: float64"
     ]
    }
   ],
   "source": [
    "# Descriptive Statistics (Recency)\n",
    "RFMScores.Recency.describe()"
   ]
  },
  {
   "cell_type": "code",
   "execution_count": 0,
   "metadata": {
    "application/vnd.databricks.v1+cell": {
     "cellMetadata": {
      "byteLimit": 2048000,
      "rowLimit": 10000
     },
     "inputWidgets": {},
     "nuid": "2c405973-2926-4549-9573-a0388278bd5c",
     "showTitle": false,
     "title": ""
    }
   },
   "outputs": [
    {
     "output_type": "display_data",
     "data": {
      "image/png": "[encoded data removed]"
     },
     "metadata": {
      "application/vnd.databricks.v1+output": {
       "addedWidgets": {},
       "arguments": {},
       "data": "data:image/png;base64,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\n",
       "datasetInfos": [],
       "metadata": {},
       "removedWidgets": [],
       "type": "image"
      }
     },
     "output_type": "display_data"
    }
   ],
   "source": [
    "#Recency distribution plot\n",
    "\n",
    "fig, ax = plt.subplots()\n",
    "r = RFMScores['Recency']\n",
    "\n",
    "# Plot the distribution using seaborn's histplot\n",
    "sns.histplot(r, bins=30, kde=True, ax=ax)\n",
    "\n",
    "# Set x-axis scale to linear\n",
    "ax.set_xscale('linear')\n",
    "\n",
    "# Set x-axis ticks to an interval of 50\n",
    "plt.xticks(range(0, max(r)+1, 50))\n",
    "\n",
    "# Show the plot\n",
    "plt.show()"
   ]
  },
  {
   "cell_type": "code",
   "execution_count": 0,
   "metadata": {
    "application/vnd.databricks.v1+cell": {
     "cellMetadata": {
      "byteLimit": 2048000,
      "rowLimit": 10000
     },
     "inputWidgets": {},
     "nuid": "2a624722-87d0-4939-924f-c2eb577fe51c",
     "showTitle": false,
     "title": ""
    }
   },
   "outputs": [
    {
     "output_type": "stream",
     "name": "stdout",
     "output_type": "stream",
     "text": [
      "Out[10]: count    3921.000000\nmean       90.371079\nstd       217.796155\nmin         1.000000\n25%        17.000000\n50%        41.000000\n75%        99.000000\nmax      7847.000000\nName: Frequency, dtype: float64"
     ]
    }
   ],
   "source": [
    "# Descriptive Statistics (Frequency)\n",
    "RFMScores.Frequency.describe()"
   ]
  },
  {
   "cell_type": "code",
   "execution_count": 0,
   "metadata": {
    "application/vnd.databricks.v1+cell": {
     "cellMetadata": {
      "byteLimit": 2048000,
      "rowLimit": 10000
     },
     "inputWidgets": {},
     "nuid": "055825a2-f5eb-4a59-b9bb-7c83288a04ec",
     "showTitle": false,
     "title": ""
    }
   },
   "outputs": [
    {
     "output_type": "display_data",
     "data": {
      "image/png": "[encoded data removed]"
     },
     "metadata": {
      "application/vnd.databricks.v1+output": {
       "addedWidgets": {},
       "arguments": {},
       "data": "data:image/png;base64,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\n",
       "datasetInfos": [],
       "metadata": {},
       "removedWidgets": [],
       "type": "image"
      }
     },
     "output_type": "display_data"
    }
   ],
   "source": [
    "#Frequency distribution plot, taking observations which have frequency less than 1000\n",
    "\n",
    "f = RFMScores.query('Frequency < 1000')['Frequency']\n",
    "\n",
    "# Set figure size\n",
    "plt.figure(figsize=(10, 6))\n",
    "\n",
    "ax = sns.histplot(f, kde=True)\n",
    "plt.xticks(range(0, 1000, 50))  # set x-axis tick marks to interval of 50\n",
    "plt.show()"
   ]
  },
  {
   "cell_type": "code",
   "execution_count": 0,
   "metadata": {
    "application/vnd.databricks.v1+cell": {
     "cellMetadata": {
      "byteLimit": 2048000,
      "rowLimit": 10000
     },
     "inputWidgets": {},
     "nuid": "c8b0b740-f5dd-41ba-b572-d98b1c444d68",
     "showTitle": false,
     "title": ""
    }
   },
   "outputs": [
    {
     "output_type": "stream",
     "name": "stdout",
     "output_type": "stream",
     "text": [
      "Out[12]: count      3921.000000\nmean       1863.910113\nstd        7481.922217\nmin           0.000000\n25%         300.040000\n50%         651.820000\n75%        1575.890000\nmax      259657.300000\nName: Monetary, dtype: float64"
     ]
    }
   ],
   "source": [
    "# Descriptive Statistics (Monetary)\n",
    "RFMScores.Monetary.describe()"
   ]
  },
  {
   "cell_type": "code",
   "execution_count": 0,
   "metadata": {
    "application/vnd.databricks.v1+cell": {
     "cellMetadata": {
      "byteLimit": 2048000,
      "rowLimit": 10000
     },
     "inputWidgets": {},
     "nuid": "07029678-9ec3-4012-bd7f-6a58e167b0d3",
     "showTitle": false,
     "title": ""
    }
   },
   "outputs": [
    {
     "output_type": "display_data",
     "data": {
      "image/png": "[encoded data removed]"
     },
     "metadata": {
      "application/vnd.databricks.v1+output": {
       "addedWidgets": {},
       "arguments": {},
       "data": "data:image/png;base64,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\n",
       "datasetInfos": [],
       "metadata": {},
       "removedWidgets": [],
       "type": "image"
      }
     },
     "output_type": "display_data"
    }
   ],
   "source": [
    "# Monateray distribution plot, taking observations which have monetary value less than 10000\n",
    "\n",
    "m = RFMScores.query('Monetary < 10000')['Monetary']\n",
    "\n",
    "# Set figure size\n",
    "plt.figure(figsize=(12, 6))\n",
    "\n",
    "ax = sns.histplot(m, kde=True)\n",
    "plt.xticks(range(0, 10000, 800))  # set x-axis tick marks to interval of 50\n",
    "plt.show()"
   ]
  },
  {
   "cell_type": "code",
   "execution_count": 0,
   "metadata": {
    "application/vnd.databricks.v1+cell": {
     "cellMetadata": {
      "byteLimit": 2048000,
      "rowLimit": 10000
     },
     "inputWidgets": {},
     "nuid": "b3264c4c-9e88-4499-bdc3-fa6caaa4c1f5",
     "showTitle": false,
     "title": ""
    }
   },
   "outputs": [],
   "source": [
    "# Calculate segments\n",
    "segments = RFMScores[['Recency', 'Frequency', 'Monetary']].quantile(q=[0.2, 0.4, 0.6, 0.8])\n",
    "segments = segments.to_dict()"
   ]
  },
  {
   "cell_type": "code",
   "execution_count": 0,
   "metadata": {
    "application/vnd.databricks.v1+cell": {
     "cellMetadata": {
      "byteLimit": 2048000,
      "rowLimit": 10000
     },
     "inputWidgets": {},
     "nuid": "0216e7cb-c08f-4152-9b58-a8ed828b9dfa",
     "showTitle": false,
     "title": ""
    }
   },
   "outputs": [],
   "source": [
    "# Functions to create R, F, and M segments\n",
    "def RScoring(x, p, d):\n",
    "    if x <= d[p][0.2]:\n",
    "        return 5\n",
    "    elif x <= d[p][0.4]:\n",
    "        return 4\n",
    "    elif x <= d[p][0.6]: \n",
    "        return 3\n",
    "    elif x <= d[p][0.8]: \n",
    "        return 2\n",
    "    else:\n",
    "        return 1\n",
    "    \n",
    "def FnMScoring(x, p, d):\n",
    "    if x <= d[p][0.2]:\n",
    "        return 1\n",
    "    elif x <= d[p][0.4]:\n",
    "        return 2\n",
    "    elif x <= d[p][0.6]: \n",
    "        return 3\n",
    "    elif x <= d[p][0.8]: \n",
    "        return 4\n",
    "    else:\n",
    "        return 5"
   ]
  },
  {
   "cell_type": "code",
   "execution_count": 0,
   "metadata": {
    "application/vnd.databricks.v1+cell": {
     "cellMetadata": {
      "byteLimit": 2048000,
      "rowLimit": 10000
     },
     "inputWidgets": {},
     "nuid": "49d896a6-77b9-4091-a472-b78d1dc61305",
     "showTitle": false,
     "title": ""
    }
   },
   "outputs": [
    {
     "output_type": "display_data",
     "data": {
      "text/html": [
       "<div>\n",
       "<style scoped>\n",
       "    .dataframe tbody tr th:only-of-type {\n",
       "        vertical-align: middle;\n",
       "    }\n",
       "\n",
       "    .dataframe tbody tr th {\n",
       "        vertical-align: top;\n",
       "    }\n",
       "\n",
       "    .dataframe thead th {\n",
       "        text-align: right;\n",
       "    }\n",
       "</style>\n",
       "<table border=\"1\" class=\"dataframe\">\n",
       "  <thead>\n",
       "    <tr style=\"text-align: right;\">\n",
       "      <th></th>\n",
       "      <th>CustomerID</th>\n",
       "      <th>Recency</th>\n",
       "      <th>Frequency</th>\n",
       "      <th>Monetary</th>\n",
       "      <th>R</th>\n",
       "      <th>F</th>\n",
       "      <th>M</th>\n",
       "    </tr>\n",
       "  </thead>\n",
       "  <tbody>\n",
       "    <tr>\n",
       "      <th>0</th>\n",
       "      <td>12346</td>\n",
       "      <td>325</td>\n",
       "      <td>1</td>\n",
       "      <td>77183.60</td>\n",
       "      <td>1</td>\n",
       "      <td>1</td>\n",
       "      <td>5</td>\n",
       "    </tr>\n",
       "    <tr>\n",
       "      <th>1</th>\n",
       "      <td>12747</td>\n",
       "      <td>2</td>\n",
       "      <td>103</td>\n",
       "      <td>4196.01</td>\n",
       "      <td>5</td>\n",
       "      <td>4</td>\n",
       "      <td>5</td>\n",
       "    </tr>\n",
       "    <tr>\n",
       "      <th>2</th>\n",
       "      <td>12748</td>\n",
       "      <td>0</td>\n",
       "      <td>4596</td>\n",
       "      <td>33719.73</td>\n",
       "      <td>5</td>\n",
       "      <td>5</td>\n",
       "      <td>5</td>\n",
       "    </tr>\n",
       "    <tr>\n",
       "      <th>3</th>\n",
       "      <td>12749</td>\n",
       "      <td>3</td>\n",
       "      <td>199</td>\n",
       "      <td>4090.88</td>\n",
       "      <td>5</td>\n",
       "      <td>5</td>\n",
       "      <td>5</td>\n",
       "    </tr>\n",
       "    <tr>\n",
       "      <th>4</th>\n",
       "      <td>12820</td>\n",
       "      <td>3</td>\n",
       "      <td>59</td>\n",
       "      <td>942.34</td>\n",
       "      <td>5</td>\n",
       "      <td>4</td>\n",
       "      <td>4</td>\n",
       "    </tr>\n",
       "  </tbody>\n",
       "</table>\n",
       "</div>"
      ]
     },
     "metadata": {
      "application/vnd.databricks.v1+output": {
       "addedWidgets": {},
       "arguments": {},
       "data": "<div>\n<style scoped>\n    .dataframe tbody tr th:only-of-type {\n        vertical-align: middle;\n    }\n\n    .dataframe tbody tr th {\n        vertical-align: top;\n    }\n\n    .dataframe thead th {\n        text-align: right;\n    }\n</style>\n<table border=\"1\" class=\"dataframe\">\n  <thead>\n    <tr style=\"text-align: right;\">\n      <th></th>\n      <th>CustomerID</th>\n      <th>Recency</th>\n      <th>Frequency</th>\n      <th>Monetary</th>\n      <th>R</th>\n      <th>F</th>\n      <th>M</th>\n    </tr>\n  </thead>\n  <tbody>\n    <tr>\n      <th>0</th>\n      <td>12346</td>\n      <td>325</td>\n      <td>1</td>\n      <td>77183.60</td>\n      <td>1</td>\n      <td>1</td>\n      <td>5</td>\n    </tr>\n    <tr>\n      <th>1</th>\n      <td>12747</td>\n      <td>2</td>\n      <td>103</td>\n      <td>4196.01</td>\n      <td>5</td>\n      <td>4</td>\n      <td>5</td>\n    </tr>\n    <tr>\n      <th>2</th>\n      <td>12748</td>\n      <td>0</td>\n      <td>4596</td>\n      <td>33719.73</td>\n      <td>5</td>\n      <td>5</td>\n      <td>5</td>\n    </tr>\n    <tr>\n      <th>3</th>\n      <td>12749</td>\n      <td>3</td>\n      <td>199</td>\n      <td>4090.88</td>\n      <td>5</td>\n      <td>5</td>\n      <td>5</td>\n    </tr>\n    <tr>\n      <th>4</th>\n      <td>12820</td>\n      <td>3</td>\n      <td>59</td>\n      <td>942.34</td>\n      <td>5</td>\n      <td>4</td>\n      <td>4</td>\n    </tr>\n  </tbody>\n</table>\n</div>",
       "datasetInfos": [],
       "metadata": {},
       "removedWidgets": [],
       "textData": null,
       "type": "htmlSandbox"
      }
     },
     "output_type": "display_data"
    }
   ],
   "source": [
    "# Create R, F, and M segments\n",
    "RFMScores['R'] = RFMScores['Recency'].apply(RScoring, args=('Recency', segments))\n",
    "RFMScores['F'] = RFMScores['Frequency'].apply(FnMScoring, args=('Frequency', segments))\n",
    "RFMScores['M'] = RFMScores['Monetary'].apply(FnMScoring, args=('Monetary', segments))\n",
    "\n",
    "RFMScores.head()"
   ]
  },
  {
   "cell_type": "code",
   "execution_count": 0,
   "metadata": {
    "application/vnd.databricks.v1+cell": {
     "cellMetadata": {
      "byteLimit": 2048000,
      "rowLimit": 10000
     },
     "inputWidgets": {},
     "nuid": "ede26c5b-ca76-4e16-a20b-961daf26d375",
     "showTitle": false,
     "title": ""
    }
   },
   "outputs": [
    {
     "output_type": "display_data",
     "data": {
      "text/html": [
       "<div>\n",
       "<style scoped>\n",
       "    .dataframe tbody tr th:only-of-type {\n",
       "        vertical-align: middle;\n",
       "    }\n",
       "\n",
       "    .dataframe tbody tr th {\n",
       "        vertical-align: top;\n",
       "    }\n",
       "\n",
       "    .dataframe thead th {\n",
       "        text-align: right;\n",
       "    }\n",
       "</style>\n",
       "<table border=\"1\" class=\"dataframe\">\n",
       "  <thead>\n",
       "    <tr style=\"text-align: right;\">\n",
       "      <th></th>\n",
       "      <th>CustomerID</th>\n",
       "      <th>Recency</th>\n",
       "      <th>Frequency</th>\n",
       "      <th>Monetary</th>\n",
       "      <th>R</th>\n",
       "      <th>F</th>\n",
       "      <th>M</th>\n",
       "      <th>RFMGroup</th>\n",
       "      <th>RFMScore</th>\n",
       "    </tr>\n",
       "  </thead>\n",
       "  <tbody>\n",
       "    <tr>\n",
       "      <th>0</th>\n",
       "      <td>12346</td>\n",
       "      <td>325</td>\n",
       "      <td>1</td>\n",
       "      <td>77183.60</td>\n",
       "      <td>1</td>\n",
       "      <td>1</td>\n",
       "      <td>5</td>\n",
       "      <td>115</td>\n",
       "      <td>7</td>\n",
       "    </tr>\n",
       "    <tr>\n",
       "      <th>1</th>\n",
       "      <td>12747</td>\n",
       "      <td>2</td>\n",
       "      <td>103</td>\n",
       "      <td>4196.01</td>\n",
       "      <td>5</td>\n",
       "      <td>4</td>\n",
       "      <td>5</td>\n",
       "      <td>545</td>\n",
       "      <td>14</td>\n",
       "    </tr>\n",
       "    <tr>\n",
       "      <th>2</th>\n",
       "      <td>12748</td>\n",
       "      <td>0</td>\n",
       "      <td>4596</td>\n",
       "      <td>33719.73</td>\n",
       "      <td>5</td>\n",
       "      <td>5</td>\n",
       "      <td>5</td>\n",
       "      <td>555</td>\n",
       "      <td>15</td>\n",
       "    </tr>\n",
       "    <tr>\n",
       "      <th>3</th>\n",
       "      <td>12749</td>\n",
       "      <td>3</td>\n",
       "      <td>199</td>\n",
       "      <td>4090.88</td>\n",
       "      <td>5</td>\n",
       "      <td>5</td>\n",
       "      <td>5</td>\n",
       "      <td>555</td>\n",
       "      <td>15</td>\n",
       "    </tr>\n",
       "    <tr>\n",
       "      <th>4</th>\n",
       "      <td>12820</td>\n",
       "      <td>3</td>\n",
       "      <td>59</td>\n",
       "      <td>942.34</td>\n",
       "      <td>5</td>\n",
       "      <td>4</td>\n",
       "      <td>4</td>\n",
       "      <td>544</td>\n",
       "      <td>13</td>\n",
       "    </tr>\n",
       "  </tbody>\n",
       "</table>\n",
       "</div>"
      ]
     },
     "metadata": {
      "application/vnd.databricks.v1+output": {
       "addedWidgets": {},
       "arguments": {},
       "data": "<div>\n<style scoped>\n    .dataframe tbody tr th:only-of-type {\n        vertical-align: middle;\n    }\n\n    .dataframe tbody tr th {\n        vertical-align: top;\n    }\n\n    .dataframe thead th {\n        text-align: right;\n    }\n</style>\n<table border=\"1\" class=\"dataframe\">\n  <thead>\n    <tr style=\"text-align: right;\">\n      <th></th>\n      <th>CustomerID</th>\n      <th>Recency</th>\n      <th>Frequency</th>\n      <th>Monetary</th>\n      <th>R</th>\n      <th>F</th>\n      <th>M</th>\n      <th>RFMGroup</th>\n      <th>RFMScore</th>\n    </tr>\n  </thead>\n  <tbody>\n    <tr>\n      <th>0</th>\n      <td>12346</td>\n      <td>325</td>\n      <td>1</td>\n      <td>77183.60</td>\n      <td>1</td>\n      <td>1</td>\n      <td>5</td>\n      <td>115</td>\n      <td>7</td>\n    </tr>\n    <tr>\n      <th>1</th>\n      <td>12747</td>\n      <td>2</td>\n      <td>103</td>\n      <td>4196.01</td>\n      <td>5</td>\n      <td>4</td>\n      <td>5</td>\n      <td>545</td>\n      <td>14</td>\n    </tr>\n    <tr>\n      <th>2</th>\n      <td>12748</td>\n      <td>0</td>\n      <td>4596</td>\n      <td>33719.73</td>\n      <td>5</td>\n      <td>5</td>\n      <td>5</td>\n      <td>555</td>\n      <td>15</td>\n    </tr>\n    <tr>\n      <th>3</th>\n      <td>12749</td>\n      <td>3</td>\n      <td>199</td>\n      <td>4090.88</td>\n      <td>5</td>\n      <td>5</td>\n      <td>5</td>\n      <td>555</td>\n      <td>15</td>\n    </tr>\n    <tr>\n      <th>4</th>\n      <td>12820</td>\n      <td>3</td>\n      <td>59</td>\n      <td>942.34</td>\n      <td>5</td>\n      <td>4</td>\n      <td>4</td>\n      <td>544</td>\n      <td>13</td>\n    </tr>\n  </tbody>\n</table>\n</div>",
       "datasetInfos": [],
       "metadata": {},
       "removedWidgets": [],
       "textData": null,
       "type": "htmlSandbox"
      }
     },
     "output_type": "display_data"
    }
   ],
   "source": [
    "# Combine R, F, and M segments\n",
    "RFMScores['RFMGroup'] = RFMScores['R'].map(str) + RFMScores['F'].map(str) + RFMScores['M'].map(str)\n",
    "\n",
    "# Calculate and Add RFMScore value column showing total sum of RFMGroup values\n",
    "RFMScores['RFMScore'] = RFMScores[['R', 'F', 'M']].sum(axis = 1)\n",
    "\n",
    "RFMScores.head()"
   ]
  },
  {
   "cell_type": "code",
   "execution_count": 0,
   "metadata": {
    "application/vnd.databricks.v1+cell": {
     "cellMetadata": {
      "byteLimit": 2048000,
      "rowLimit": 10000
     },
     "inputWidgets": {},
     "nuid": "670aa7a3-59e1-4780-bece-cd365c5ca11a",
     "showTitle": false,
     "title": ""
    }
   },
   "outputs": [
    {
     "output_type": "display_data",
     "data": {
      "text/html": [
       "<div>\n",
       "<style scoped>\n",
       "    .dataframe tbody tr th:only-of-type {\n",
       "        vertical-align: middle;\n",
       "    }\n",
       "\n",
       "    .dataframe tbody tr th {\n",
       "        vertical-align: top;\n",
       "    }\n",
       "\n",
       "    .dataframe thead th {\n",
       "        text-align: right;\n",
       "    }\n",
       "</style>\n",
       "<table border=\"1\" class=\"dataframe\">\n",
       "  <thead>\n",
       "    <tr style=\"text-align: right;\">\n",
       "      <th></th>\n",
       "      <th>CustomerID</th>\n",
       "      <th>Recency</th>\n",
       "      <th>Frequency</th>\n",
       "      <th>Monetary</th>\n",
       "      <th>R</th>\n",
       "      <th>F</th>\n",
       "      <th>M</th>\n",
       "      <th>RFMGroup</th>\n",
       "      <th>RFMScore</th>\n",
       "      <th>RFM_Loyalty_Level</th>\n",
       "    </tr>\n",
       "  </thead>\n",
       "  <tbody>\n",
       "    <tr>\n",
       "      <th>0</th>\n",
       "      <td>12346</td>\n",
       "      <td>325</td>\n",
       "      <td>1</td>\n",
       "      <td>77183.60</td>\n",
       "      <td>1</td>\n",
       "      <td>1</td>\n",
       "      <td>5</td>\n",
       "      <td>115</td>\n",
       "      <td>7</td>\n",
       "      <td>Silver</td>\n",
       "    </tr>\n",
       "    <tr>\n",
       "      <th>1</th>\n",
       "      <td>12747</td>\n",
       "      <td>2</td>\n",
       "      <td>103</td>\n",
       "      <td>4196.01</td>\n",
       "      <td>5</td>\n",
       "      <td>4</td>\n",
       "      <td>5</td>\n",
       "      <td>545</td>\n",
       "      <td>14</td>\n",
       "      <td>Diamond</td>\n",
       "    </tr>\n",
       "    <tr>\n",
       "      <th>2</th>\n",
       "      <td>12748</td>\n",
       "      <td>0</td>\n",
       "      <td>4596</td>\n",
       "      <td>33719.73</td>\n",
       "      <td>5</td>\n",
       "      <td>5</td>\n",
       "      <td>5</td>\n",
       "      <td>555</td>\n",
       "      <td>15</td>\n",
       "      <td>Diamond</td>\n",
       "    </tr>\n",
       "    <tr>\n",
       "      <th>3</th>\n",
       "      <td>12749</td>\n",
       "      <td>3</td>\n",
       "      <td>199</td>\n",
       "      <td>4090.88</td>\n",
       "      <td>5</td>\n",
       "      <td>5</td>\n",
       "      <td>5</td>\n",
       "      <td>555</td>\n",
       "      <td>15</td>\n",
       "      <td>Diamond</td>\n",
       "    </tr>\n",
       "    <tr>\n",
       "      <th>4</th>\n",
       "      <td>12820</td>\n",
       "      <td>3</td>\n",
       "      <td>59</td>\n",
       "      <td>942.34</td>\n",
       "      <td>5</td>\n",
       "      <td>4</td>\n",
       "      <td>4</td>\n",
       "      <td>544</td>\n",
       "      <td>13</td>\n",
       "      <td>Platinum</td>\n",
       "    </tr>\n",
       "  </tbody>\n",
       "</table>\n",
       "</div>"
      ]
     },
     "metadata": {
      "application/vnd.databricks.v1+output": {
       "addedWidgets": {},
       "arguments": {},
       "data": "<div>\n<style scoped>\n    .dataframe tbody tr th:only-of-type {\n        vertical-align: middle;\n    }\n\n    .dataframe tbody tr th {\n        vertical-align: top;\n    }\n\n    .dataframe thead th {\n        text-align: right;\n    }\n</style>\n<table border=\"1\" class=\"dataframe\">\n  <thead>\n    <tr style=\"text-align: right;\">\n      <th></th>\n      <th>CustomerID</th>\n      <th>Recency</th>\n      <th>Frequency</th>\n      <th>Monetary</th>\n      <th>R</th>\n      <th>F</th>\n      <th>M</th>\n      <th>RFMGroup</th>\n      <th>RFMScore</th>\n      <th>RFM_Loyalty_Level</th>\n    </tr>\n  </thead>\n  <tbody>\n    <tr>\n      <th>0</th>\n      <td>12346</td>\n      <td>325</td>\n      <td>1</td>\n      <td>77183.60</td>\n      <td>1</td>\n      <td>1</td>\n      <td>5</td>\n      <td>115</td>\n      <td>7</td>\n      <td>Silver</td>\n    </tr>\n    <tr>\n      <th>1</th>\n      <td>12747</td>\n      <td>2</td>\n      <td>103</td>\n      <td>4196.01</td>\n      <td>5</td>\n      <td>4</td>\n      <td>5</td>\n      <td>545</td>\n      <td>14</td>\n      <td>Diamond</td>\n    </tr>\n    <tr>\n      <th>2</th>\n      <td>12748</td>\n      <td>0</td>\n      <td>4596</td>\n      <td>33719.73</td>\n      <td>5</td>\n      <td>5</td>\n      <td>5</td>\n      <td>555</td>\n      <td>15</td>\n      <td>Diamond</td>\n    </tr>\n    <tr>\n      <th>3</th>\n      <td>12749</td>\n      <td>3</td>\n      <td>199</td>\n      <td>4090.88</td>\n      <td>5</td>\n      <td>5</td>\n      <td>5</td>\n      <td>555</td>\n      <td>15</td>\n      <td>Diamond</td>\n    </tr>\n    <tr>\n      <th>4</th>\n      <td>12820</td>\n      <td>3</td>\n      <td>59</td>\n      <td>942.34</td>\n      <td>5</td>\n      <td>4</td>\n      <td>4</td>\n      <td>544</td>\n      <td>13</td>\n      <td>Platinum</td>\n    </tr>\n  </tbody>\n</table>\n</div>",
       "datasetInfos": [],
       "metadata": {},
       "removedWidgets": [],
       "textData": null,
       "type": "htmlSandbox"
      }
     },
     "output_type": "display_data"
    }
   ],
   "source": [
    "# Assign Loyalty Level to each customer\n",
    "\n",
    "Loyalty_Level = ['Basic', 'Silver', 'Gold', 'Platinum', 'Diamond']\n",
    "Score_cuts = pd.qcut(RFMScores.RFMScore, q=5, labels=Loyalty_Level)\n",
    "RFMScores['RFM_Loyalty_Level'] = Score_cuts.values\n",
    "\n",
    "RFMScores.head()"
   ]
  },
  {
   "cell_type": "code",
   "execution_count": 0,
   "metadata": {
    "application/vnd.databricks.v1+cell": {
     "cellMetadata": {
      "byteLimit": 2048000,
      "rowLimit": 10000
     },
     "inputWidgets": {},
     "nuid": "e1820fc4-6fb3-4f8a-b0a4-0a1d018b2949",
     "showTitle": false,
     "title": ""
    }
   },
   "outputs": [
    {
     "output_type": "display_data",
     "data": {
      "text/html": [
       "<div>\n",
       "<style scoped>\n",
       "    .dataframe tbody tr th:only-of-type {\n",
       "        vertical-align: middle;\n",
       "    }\n",
       "\n",
       "    .dataframe tbody tr th {\n",
       "        vertical-align: top;\n",
       "    }\n",
       "\n",
       "    .dataframe thead th {\n",
       "        text-align: right;\n",
       "    }\n",
       "</style>\n",
       "<table border=\"1\" class=\"dataframe\">\n",
       "  <thead>\n",
       "    <tr style=\"text-align: right;\">\n",
       "      <th></th>\n",
       "      <th>CustomerID</th>\n",
       "      <th>Recency</th>\n",
       "      <th>Frequency</th>\n",
       "      <th>Monetary</th>\n",
       "      <th>R</th>\n",
       "      <th>F</th>\n",
       "      <th>M</th>\n",
       "      <th>RFMGroup</th>\n",
       "      <th>RFMScore</th>\n",
       "      <th>RFM_Loyalty_Level</th>\n",
       "    </tr>\n",
       "  </thead>\n",
       "  <tbody>\n",
       "    <tr>\n",
       "      <th>2586</th>\n",
       "      <td>16427</td>\n",
       "      <td>263</td>\n",
       "      <td>9</td>\n",
       "      <td>241.06</td>\n",
       "      <td>1</td>\n",
       "      <td>1</td>\n",
       "      <td>1</td>\n",
       "      <td>111</td>\n",
       "      <td>3</td>\n",
       "      <td>Basic</td>\n",
       "    </tr>\n",
       "    <tr>\n",
       "      <th>2823</th>\n",
       "      <td>16756</td>\n",
       "      <td>214</td>\n",
       "      <td>13</td>\n",
       "      <td>239.40</td>\n",
       "      <td>1</td>\n",
       "      <td>1</td>\n",
       "      <td>1</td>\n",
       "      <td>111</td>\n",
       "      <td>3</td>\n",
       "      <td>Basic</td>\n",
       "    </tr>\n",
       "    <tr>\n",
       "      <th>3046</th>\n",
       "      <td>17060</td>\n",
       "      <td>266</td>\n",
       "      <td>5</td>\n",
       "      <td>234.24</td>\n",
       "      <td>1</td>\n",
       "      <td>1</td>\n",
       "      <td>1</td>\n",
       "      <td>111</td>\n",
       "      <td>3</td>\n",
       "      <td>Basic</td>\n",
       "    </tr>\n",
       "    <tr>\n",
       "      <th>689</th>\n",
       "      <td>13786</td>\n",
       "      <td>367</td>\n",
       "      <td>7</td>\n",
       "      <td>230.40</td>\n",
       "      <td>1</td>\n",
       "      <td>1</td>\n",
       "      <td>1</td>\n",
       "      <td>111</td>\n",
       "      <td>3</td>\n",
       "      <td>Basic</td>\n",
       "    </tr>\n",
       "    <tr>\n",
       "      <th>635</th>\n",
       "      <td>13712</td>\n",
       "      <td>246</td>\n",
       "      <td>10</td>\n",
       "      <td>228.84</td>\n",
       "      <td>1</td>\n",
       "      <td>1</td>\n",
       "      <td>1</td>\n",
       "      <td>111</td>\n",
       "      <td>3</td>\n",
       "      <td>Basic</td>\n",
       "    </tr>\n",
       "    <tr>\n",
       "      <th>180</th>\n",
       "      <td>13070</td>\n",
       "      <td>192</td>\n",
       "      <td>9</td>\n",
       "      <td>228.80</td>\n",
       "      <td>1</td>\n",
       "      <td>1</td>\n",
       "      <td>1</td>\n",
       "      <td>111</td>\n",
       "      <td>3</td>\n",
       "      <td>Basic</td>\n",
       "    </tr>\n",
       "    <tr>\n",
       "      <th>3146</th>\n",
       "      <td>17212</td>\n",
       "      <td>253</td>\n",
       "      <td>4</td>\n",
       "      <td>226.85</td>\n",
       "      <td>1</td>\n",
       "      <td>1</td>\n",
       "      <td>1</td>\n",
       "      <td>111</td>\n",
       "      <td>3</td>\n",
       "      <td>Basic</td>\n",
       "    </tr>\n",
       "    <tr>\n",
       "      <th>2697</th>\n",
       "      <td>16587</td>\n",
       "      <td>232</td>\n",
       "      <td>13</td>\n",
       "      <td>225.15</td>\n",
       "      <td>1</td>\n",
       "      <td>1</td>\n",
       "      <td>1</td>\n",
       "      <td>111</td>\n",
       "      <td>3</td>\n",
       "      <td>Basic</td>\n",
       "    </tr>\n",
       "    <tr>\n",
       "      <th>2619</th>\n",
       "      <td>16471</td>\n",
       "      <td>274</td>\n",
       "      <td>13</td>\n",
       "      <td>223.95</td>\n",
       "      <td>1</td>\n",
       "      <td>1</td>\n",
       "      <td>1</td>\n",
       "      <td>111</td>\n",
       "      <td>3</td>\n",
       "      <td>Basic</td>\n",
       "    </tr>\n",
       "    <tr>\n",
       "      <th>2077</th>\n",
       "      <td>15724</td>\n",
       "      <td>201</td>\n",
       "      <td>11</td>\n",
       "      <td>218.25</td>\n",
       "      <td>1</td>\n",
       "      <td>1</td>\n",
       "      <td>1</td>\n",
       "      <td>111</td>\n",
       "      <td>3</td>\n",
       "      <td>Basic</td>\n",
       "    </tr>\n",
       "  </tbody>\n",
       "</table>\n",
       "</div>"
      ]
     },
     "metadata": {
      "application/vnd.databricks.v1+output": {
       "addedWidgets": {},
       "arguments": {},
       "data": "<div>\n<style scoped>\n    .dataframe tbody tr th:only-of-type {\n        vertical-align: middle;\n    }\n\n    .dataframe tbody tr th {\n        vertical-align: top;\n    }\n\n    .dataframe thead th {\n        text-align: right;\n    }\n</style>\n<table border=\"1\" class=\"dataframe\">\n  <thead>\n    <tr style=\"text-align: right;\">\n      <th></th>\n      <th>CustomerID</th>\n      <th>Recency</th>\n      <th>Frequency</th>\n      <th>Monetary</th>\n      <th>R</th>\n      <th>F</th>\n      <th>M</th>\n      <th>RFMGroup</th>\n      <th>RFMScore</th>\n      <th>RFM_Loyalty_Level</th>\n    </tr>\n  </thead>\n  <tbody>\n    <tr>\n      <th>2586</th>\n      <td>16427</td>\n      <td>263</td>\n      <td>9</td>\n      <td>241.06</td>\n      <td>1</td>\n      <td>1</td>\n      <td>1</td>\n      <td>111</td>\n      <td>3</td>\n      <td>Basic</td>\n    </tr>\n    <tr>\n      <th>2823</th>\n      <td>16756</td>\n      <td>214</td>\n      <td>13</td>\n      <td>239.40</td>\n      <td>1</td>\n      <td>1</td>\n      <td>1</td>\n      <td>111</td>\n      <td>3</td>\n      <td>Basic</td>\n    </tr>\n    <tr>\n      <th>3046</th>\n      <td>17060</td>\n      <td>266</td>\n      <td>5</td>\n      <td>234.24</td>\n      <td>1</td>\n      <td>1</td>\n      <td>1</td>\n      <td>111</td>\n      <td>3</td>\n      <td>Basic</td>\n    </tr>\n    <tr>\n      <th>689</th>\n      <td>13786</td>\n      <td>367</td>\n      <td>7</td>\n      <td>230.40</td>\n      <td>1</td>\n      <td>1</td>\n      <td>1</td>\n      <td>111</td>\n      <td>3</td>\n      <td>Basic</td>\n    </tr>\n    <tr>\n      <th>635</th>\n      <td>13712</td>\n      <td>246</td>\n      <td>10</td>\n      <td>228.84</td>\n      <td>1</td>\n      <td>1</td>\n      <td>1</td>\n      <td>111</td>\n      <td>3</td>\n      <td>Basic</td>\n    </tr>\n    <tr>\n      <th>180</th>\n      <td>13070</td>\n      <td>192</td>\n      <td>9</td>\n      <td>228.80</td>\n      <td>1</td>\n      <td>1</td>\n      <td>1</td>\n      <td>111</td>\n      <td>3</td>\n      <td>Basic</td>\n    </tr>\n    <tr>\n      <th>3146</th>\n      <td>17212</td>\n      <td>253</td>\n      <td>4</td>\n      <td>226.85</td>\n      <td>1</td>\n      <td>1</td>\n      <td>1</td>\n      <td>111</td>\n      <td>3</td>\n      <td>Basic</td>\n    </tr>\n    <tr>\n      <th>2697</th>\n      <td>16587</td>\n      <td>232</td>\n      <td>13</td>\n      <td>225.15</td>\n      <td>1</td>\n      <td>1</td>\n      <td>1</td>\n      <td>111</td>\n      <td>3</td>\n      <td>Basic</td>\n    </tr>\n    <tr>\n      <th>2619</th>\n      <td>16471</td>\n      <td>274</td>\n      <td>13</td>\n      <td>223.95</td>\n      <td>1</td>\n      <td>1</td>\n      <td>1</td>\n      <td>111</td>\n      <td>3</td>\n      <td>Basic</td>\n    </tr>\n    <tr>\n      <th>2077</th>\n      <td>15724</td>\n      <td>201</td>\n      <td>11</td>\n      <td>218.25</td>\n      <td>1</td>\n      <td>1</td>\n      <td>1</td>\n      <td>111</td>\n      <td>3</td>\n      <td>Basic</td>\n    </tr>\n  </tbody>\n</table>\n</div>",
       "datasetInfos": [],
       "metadata": {},
       "removedWidgets": [],
       "textData": null,
       "type": "htmlSandbox"
      }
     },
     "output_type": "display_data"
    }
   ],
   "source": [
    "# Validate the data for RFMGroup = 111\n",
    "RFMScores[RFMScores['RFMGroup']=='111'].sort_values('Monetary', ascending=False).head(10)"
   ]
  },
  {
   "cell_type": "code",
   "execution_count": 0,
   "metadata": {
    "application/vnd.databricks.v1+cell": {
     "cellMetadata": {
      "byteLimit": 2048000,
      "rowLimit": 10000
     },
     "inputWidgets": {},
     "nuid": "a5b2909f-a152-4dd2-a048-23c88eec3d27",
     "showTitle": false,
     "title": ""
    }
   },
   "outputs": [
    {
     "output_type": "display_data",
     "data": {
      "text/html": [
       "<div>\n",
       "<style scoped>\n",
       "    .dataframe tbody tr th:only-of-type {\n",
       "        vertical-align: middle;\n",
       "    }\n",
       "\n",
       "    .dataframe tbody tr th {\n",
       "        vertical-align: top;\n",
       "    }\n",
       "\n",
       "    .dataframe thead th {\n",
       "        text-align: right;\n",
       "    }\n",
       "</style>\n",
       "<table border=\"1\" class=\"dataframe\">\n",
       "  <thead>\n",
       "    <tr style=\"text-align: right;\">\n",
       "      <th></th>\n",
       "      <th>CustomerID</th>\n",
       "      <th>Recency</th>\n",
       "      <th>Frequency</th>\n",
       "      <th>Monetary</th>\n",
       "      <th>R</th>\n",
       "      <th>F</th>\n",
       "      <th>M</th>\n",
       "      <th>RFMGroup</th>\n",
       "      <th>RFMScore</th>\n",
       "      <th>RFM_Loyalty_Level</th>\n",
       "    </tr>\n",
       "  </thead>\n",
       "  <tbody>\n",
       "    <tr>\n",
       "      <th>3784</th>\n",
       "      <td>18102</td>\n",
       "      <td>0</td>\n",
       "      <td>431</td>\n",
       "      <td>259657.30</td>\n",
       "      <td>5</td>\n",
       "      <td>5</td>\n",
       "      <td>5</td>\n",
       "      <td>555</td>\n",
       "      <td>15</td>\n",
       "      <td>Diamond</td>\n",
       "    </tr>\n",
       "    <tr>\n",
       "      <th>3315</th>\n",
       "      <td>17450</td>\n",
       "      <td>8</td>\n",
       "      <td>337</td>\n",
       "      <td>194550.79</td>\n",
       "      <td>5</td>\n",
       "      <td>5</td>\n",
       "      <td>5</td>\n",
       "      <td>555</td>\n",
       "      <td>15</td>\n",
       "      <td>Diamond</td>\n",
       "    </tr>\n",
       "    <tr>\n",
       "      <th>3357</th>\n",
       "      <td>17511</td>\n",
       "      <td>2</td>\n",
       "      <td>963</td>\n",
       "      <td>91062.38</td>\n",
       "      <td>5</td>\n",
       "      <td>5</td>\n",
       "      <td>5</td>\n",
       "      <td>555</td>\n",
       "      <td>15</td>\n",
       "      <td>Diamond</td>\n",
       "    </tr>\n",
       "    <tr>\n",
       "      <th>2767</th>\n",
       "      <td>16684</td>\n",
       "      <td>4</td>\n",
       "      <td>277</td>\n",
       "      <td>66653.56</td>\n",
       "      <td>5</td>\n",
       "      <td>5</td>\n",
       "      <td>5</td>\n",
       "      <td>555</td>\n",
       "      <td>15</td>\n",
       "      <td>Diamond</td>\n",
       "    </tr>\n",
       "    <tr>\n",
       "      <th>903</th>\n",
       "      <td>14096</td>\n",
       "      <td>4</td>\n",
       "      <td>5111</td>\n",
       "      <td>65164.79</td>\n",
       "      <td>5</td>\n",
       "      <td>5</td>\n",
       "      <td>5</td>\n",
       "      <td>555</td>\n",
       "      <td>15</td>\n",
       "      <td>Diamond</td>\n",
       "    </tr>\n",
       "    <tr>\n",
       "      <th>621</th>\n",
       "      <td>13694</td>\n",
       "      <td>3</td>\n",
       "      <td>568</td>\n",
       "      <td>65039.62</td>\n",
       "      <td>5</td>\n",
       "      <td>5</td>\n",
       "      <td>5</td>\n",
       "      <td>555</td>\n",
       "      <td>15</td>\n",
       "      <td>Diamond</td>\n",
       "    </tr>\n",
       "    <tr>\n",
       "      <th>1772</th>\n",
       "      <td>15311</td>\n",
       "      <td>0</td>\n",
       "      <td>2379</td>\n",
       "      <td>60767.90</td>\n",
       "      <td>5</td>\n",
       "      <td>5</td>\n",
       "      <td>5</td>\n",
       "      <td>555</td>\n",
       "      <td>15</td>\n",
       "      <td>Diamond</td>\n",
       "    </tr>\n",
       "    <tr>\n",
       "      <th>191</th>\n",
       "      <td>13089</td>\n",
       "      <td>2</td>\n",
       "      <td>1818</td>\n",
       "      <td>58825.83</td>\n",
       "      <td>5</td>\n",
       "      <td>5</td>\n",
       "      <td>5</td>\n",
       "      <td>555</td>\n",
       "      <td>15</td>\n",
       "      <td>Diamond</td>\n",
       "    </tr>\n",
       "    <tr>\n",
       "      <th>2110</th>\n",
       "      <td>15769</td>\n",
       "      <td>7</td>\n",
       "      <td>130</td>\n",
       "      <td>56252.72</td>\n",
       "      <td>5</td>\n",
       "      <td>5</td>\n",
       "      <td>5</td>\n",
       "      <td>555</td>\n",
       "      <td>15</td>\n",
       "      <td>Diamond</td>\n",
       "    </tr>\n",
       "    <tr>\n",
       "      <th>1580</th>\n",
       "      <td>15061</td>\n",
       "      <td>3</td>\n",
       "      <td>403</td>\n",
       "      <td>54534.14</td>\n",
       "      <td>5</td>\n",
       "      <td>5</td>\n",
       "      <td>5</td>\n",
       "      <td>555</td>\n",
       "      <td>15</td>\n",
       "      <td>Diamond</td>\n",
       "    </tr>\n",
       "  </tbody>\n",
       "</table>\n",
       "</div>"
      ]
     },
     "metadata": {
      "application/vnd.databricks.v1+output": {
       "addedWidgets": {},
       "arguments": {},
       "data": "<div>\n<style scoped>\n    .dataframe tbody tr th:only-of-type {\n        vertical-align: middle;\n    }\n\n    .dataframe tbody tr th {\n        vertical-align: top;\n    }\n\n    .dataframe thead th {\n        text-align: right;\n    }\n</style>\n<table border=\"1\" class=\"dataframe\">\n  <thead>\n    <tr style=\"text-align: right;\">\n      <th></th>\n      <th>CustomerID</th>\n      <th>Recency</th>\n      <th>Frequency</th>\n      <th>Monetary</th>\n      <th>R</th>\n      <th>F</th>\n      <th>M</th>\n      <th>RFMGroup</th>\n      <th>RFMScore</th>\n      <th>RFM_Loyalty_Level</th>\n    </tr>\n  </thead>\n  <tbody>\n    <tr>\n      <th>3784</th>\n      <td>18102</td>\n      <td>0</td>\n      <td>431</td>\n      <td>259657.30</td>\n      <td>5</td>\n      <td>5</td>\n      <td>5</td>\n      <td>555</td>\n      <td>15</td>\n      <td>Diamond</td>\n    </tr>\n    <tr>\n      <th>3315</th>\n      <td>17450</td>\n      <td>8</td>\n      <td>337</td>\n      <td>194550.79</td>\n      <td>5</td>\n      <td>5</td>\n      <td>5</td>\n      <td>555</td>\n      <td>15</td>\n      <td>Diamond</td>\n    </tr>\n    <tr>\n      <th>3357</th>\n      <td>17511</td>\n      <td>2</td>\n      <td>963</td>\n      <td>91062.38</td>\n      <td>5</td>\n      <td>5</td>\n      <td>5</td>\n      <td>555</td>\n      <td>15</td>\n      <td>Diamond</td>\n    </tr>\n    <tr>\n      <th>2767</th>\n      <td>16684</td>\n      <td>4</td>\n      <td>277</td>\n      <td>66653.56</td>\n      <td>5</td>\n      <td>5</td>\n      <td>5</td>\n      <td>555</td>\n      <td>15</td>\n      <td>Diamond</td>\n    </tr>\n    <tr>\n      <th>903</th>\n      <td>14096</td>\n      <td>4</td>\n      <td>5111</td>\n      <td>65164.79</td>\n      <td>5</td>\n      <td>5</td>\n      <td>5</td>\n      <td>555</td>\n      <td>15</td>\n      <td>Diamond</td>\n    </tr>\n    <tr>\n      <th>621</th>\n      <td>13694</td>\n      <td>3</td>\n      <td>568</td>\n      <td>65039.62</td>\n      <td>5</td>\n      <td>5</td>\n      <td>5</td>\n      <td>555</td>\n      <td>15</td>\n      <td>Diamond</td>\n    </tr>\n    <tr>\n      <th>1772</th>\n      <td>15311</td>\n      <td>0</td>\n      <td>2379</td>\n      <td>60767.90</td>\n      <td>5</td>\n      <td>5</td>\n      <td>5</td>\n      <td>555</td>\n      <td>15</td>\n      <td>Diamond</td>\n    </tr>\n    <tr>\n      <th>191</th>\n      <td>13089</td>\n      <td>2</td>\n      <td>1818</td>\n      <td>58825.83</td>\n      <td>5</td>\n      <td>5</td>\n      <td>5</td>\n      <td>555</td>\n      <td>15</td>\n      <td>Diamond</td>\n    </tr>\n    <tr>\n      <th>2110</th>\n      <td>15769</td>\n      <td>7</td>\n      <td>130</td>\n      <td>56252.72</td>\n      <td>5</td>\n      <td>5</td>\n      <td>5</td>\n      <td>555</td>\n      <td>15</td>\n      <td>Diamond</td>\n    </tr>\n    <tr>\n      <th>1580</th>\n      <td>15061</td>\n      <td>3</td>\n      <td>403</td>\n      <td>54534.14</td>\n      <td>5</td>\n      <td>5</td>\n      <td>5</td>\n      <td>555</td>\n      <td>15</td>\n      <td>Diamond</td>\n    </tr>\n  </tbody>\n</table>\n</div>",
       "datasetInfos": [],
       "metadata": {},
       "removedWidgets": [],
       "textData": null,
       "type": "htmlSandbox"
      }
     },
     "output_type": "display_data"
    }
   ],
   "source": [
    "# Validate the data for RFMGroup = 555\n",
    "RFMScores[RFMScores['RFMGroup']=='555'].sort_values('Monetary', ascending=False).head(10)"
   ]
  },
  {
   "cell_type": "code",
   "execution_count": 0,
   "metadata": {
    "application/vnd.databricks.v1+cell": {
     "cellMetadata": {
      "byteLimit": 2048000,
      "rowLimit": 10000
     },
     "inputWidgets": {},
     "nuid": "14085798-9d78-416c-a6ca-ff4a35c190e9",
     "showTitle": false,
     "title": ""
    }
   },
   "outputs": [
    {
     "output_type": "stream",
     "name": "stdout",
     "output_type": "stream",
     "text": [
      "<class 'pandas.core.frame.DataFrame'>\nRangeIndex: 3921 entries, 0 to 3920\nData columns (total 10 columns):\n #   Column             Non-Null Count  Dtype   \n---  ------             --------------  -----   \n 0   CustomerID         3921 non-null   object  \n 1   Recency            3921 non-null   int64   \n 2   Frequency          3921 non-null   int64   \n 3   Monetary           3921 non-null   float64 \n 4   R                  3921 non-null   int64   \n 5   F                  3921 non-null   int64   \n 6   M                  3921 non-null   int64   \n 7   RFMGroup           3921 non-null   object  \n 8   RFMScore           3921 non-null   int64   \n 9   RFM_Loyalty_Level  3921 non-null   category\ndtypes: category(1), float64(1), int64(6), object(2)\nmemory usage: 279.9+ KB\n"
     ]
    }
   ],
   "source": [
    "RFMScores.info()"
   ]
  },
  {
   "cell_type": "code",
   "execution_count": 0,
   "metadata": {
    "application/vnd.databricks.v1+cell": {
     "cellMetadata": {
      "byteLimit": 2048000,
      "rowLimit": 10000
     },
     "inputWidgets": {},
     "nuid": "d75edfe8-02bd-4c2c-b14f-597dc66e3420",
     "showTitle": false,
     "title": ""
    }
   },
   "outputs": [],
   "source": [
    "# Converting Pandas DF to PySpark DF\n",
    "RFMScores_spark = spark.createDataFrame(RFMScores)\n",
    "\n",
    "RFMScores_spark = RFMScores_spark.repartition(1)"
   ]
  },
  {
   "cell_type": "code",
   "execution_count": 0,
   "metadata": {
    "application/vnd.databricks.v1+cell": {
     "cellMetadata": {
      "byteLimit": 2048000,
      "rowLimit": 10000
     },
     "inputWidgets": {},
     "nuid": "e078afba-9ab6-4180-b6a9-fab0f818a478",
     "showTitle": false,
     "title": ""
    }
   },
   "outputs": [],
   "source": [
    "# Exporting the file into s3 bucket as a csv format\n",
    "# RFMScores_spark.write.mode('overwrite').option(\"header\", \"true\").csv('s3://project-bucket-17/Output_RFM_Modelling')"
   ]
  },
  {
   "cell_type": "code",
   "execution_count": 0,
   "metadata": {
    "application/vnd.databricks.v1+cell": {
     "cellMetadata": {
      "byteLimit": 2048000,
      "rowLimit": 10000
     },
     "inputWidgets": {},
     "nuid": "a1473cec-ea87-4202-82f6-a12aa79aad78",
     "showTitle": false,
     "title": ""
    }
   },
   "outputs": [],
   "source": []
  }
 ],
 "metadata": {
  "application/vnd.databricks.v1+notebook": {
   "dashboards": [],
   "environmentMetadata": null,
   "language": "python",
   "notebookMetadata": {
    "pythonIndentUnit": 4
   },
   "notebookName": "02_RFM_Modelling",
   "widgets": {}
  }
 },
 "nbformat": 4,
 "nbformat_minor": 0
}
